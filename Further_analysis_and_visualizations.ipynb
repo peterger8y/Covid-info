{
  "nbformat": 4,
  "nbformat_minor": 0,
  "metadata": {
    "colab": {
      "name": "Further analysis and visualizations.ipynb",
      "provenance": []
    },
    "kernelspec": {
      "name": "python3",
      "display_name": "Python 3"
    }
  },
  "cells": [
    {
      "cell_type": "code",
      "metadata": {
        "id": "O90e6a9vHYmR"
      },
      "source": [
        "import pandas as pd\n",
        "import numpy as np\n",
        "\n",
        "dftimed11 = pd.read_csv('dftimed11.csv')"
      ],
      "execution_count": 112,
      "outputs": []
    },
    {
      "cell_type": "code",
      "metadata": {
        "id": "8Itlao6vI15M"
      },
      "source": [
        "maskmandate1 = pd.read_csv('/content/maskmandate.csv')"
      ],
      "execution_count": 113,
      "outputs": []
    },
    {
      "cell_type": "code",
      "metadata": {
        "id": "B4arw7t4MGZa"
      },
      "source": [
        "maskmandate1['Requirement Date'] = pd.to_datetime(maskmandate1['Requirement Date'], infer_datetime_format=True)"
      ],
      "execution_count": 114,
      "outputs": []
    },
    {
      "cell_type": "code",
      "metadata": {
        "colab": {
          "base_uri": "https://localhost:8080/"
        },
        "id": "ZQ3-oFkjJxse",
        "outputId": "9fd8729e-9f5e-4b4b-cd13-c443d40d8518"
      },
      "source": [
        "dftimed11['date'].value_counts()"
      ],
      "execution_count": 115,
      "outputs": [
        {
          "output_type": "execute_result",
          "data": {
            "text/plain": [
              "2020-12-21    3218\n",
              "2020-12-14    3218\n",
              "2020-12-15    3218\n",
              "2020-12-25    3218\n",
              "2020-12-22    3218\n",
              "              ... \n",
              "2020-01-25       3\n",
              "2020-01-24       2\n",
              "2020-01-21       1\n",
              "2020-01-22       1\n",
              "2020-01-23       1\n",
              "Name: date, Length: 348, dtype: int64"
            ]
          },
          "metadata": {
            "tags": []
          },
          "execution_count": 115
        }
      ]
    },
    {
      "cell_type": "code",
      "metadata": {
        "colab": {
          "base_uri": "https://localhost:8080/"
        },
        "id": "0LyOS-rWfUVz",
        "outputId": "2e085854-8a97-400c-9968-16daab9aced5"
      },
      "source": [
        "len(dftimed11)"
      ],
      "execution_count": 116,
      "outputs": [
        {
          "output_type": "execute_result",
          "data": {
            "text/plain": [
              "882946"
            ]
          },
          "metadata": {
            "tags": []
          },
          "execution_count": 116
        }
      ]
    },
    {
      "cell_type": "code",
      "metadata": {
        "colab": {
          "base_uri": "https://localhost:8080/",
          "height": 309
        },
        "id": "zufsbVk5ULdl",
        "outputId": "621462e8-df27-489b-c7e4-4a55183640df"
      },
      "source": [
        "dfhere = pd.read_csv('https://raw.githubusercontent.com/nytimes/covid-19-data/master/live/us-counties.csv')\n",
        "\n",
        "dfhere.head()"
      ],
      "execution_count": 117,
      "outputs": [
        {
          "output_type": "execute_result",
          "data": {
            "text/html": [
              "<div>\n",
              "<style scoped>\n",
              "    .dataframe tbody tr th:only-of-type {\n",
              "        vertical-align: middle;\n",
              "    }\n",
              "\n",
              "    .dataframe tbody tr th {\n",
              "        vertical-align: top;\n",
              "    }\n",
              "\n",
              "    .dataframe thead th {\n",
              "        text-align: right;\n",
              "    }\n",
              "</style>\n",
              "<table border=\"1\" class=\"dataframe\">\n",
              "  <thead>\n",
              "    <tr style=\"text-align: right;\">\n",
              "      <th></th>\n",
              "      <th>date</th>\n",
              "      <th>county</th>\n",
              "      <th>state</th>\n",
              "      <th>fips</th>\n",
              "      <th>cases</th>\n",
              "      <th>deaths</th>\n",
              "      <th>confirmed_cases</th>\n",
              "      <th>confirmed_deaths</th>\n",
              "      <th>probable_cases</th>\n",
              "      <th>probable_deaths</th>\n",
              "    </tr>\n",
              "  </thead>\n",
              "  <tbody>\n",
              "    <tr>\n",
              "      <th>0</th>\n",
              "      <td>2021-01-10</td>\n",
              "      <td>Autauga</td>\n",
              "      <td>Alabama</td>\n",
              "      <td>1001.0</td>\n",
              "      <td>4879</td>\n",
              "      <td>54.0</td>\n",
              "      <td>4326.0</td>\n",
              "      <td>47.0</td>\n",
              "      <td>553.0</td>\n",
              "      <td>7.0</td>\n",
              "    </tr>\n",
              "    <tr>\n",
              "      <th>1</th>\n",
              "      <td>2021-01-10</td>\n",
              "      <td>Baldwin</td>\n",
              "      <td>Alabama</td>\n",
              "      <td>1003.0</td>\n",
              "      <td>15327</td>\n",
              "      <td>173.0</td>\n",
              "      <td>11148.0</td>\n",
              "      <td>125.0</td>\n",
              "      <td>4179.0</td>\n",
              "      <td>48.0</td>\n",
              "    </tr>\n",
              "    <tr>\n",
              "      <th>2</th>\n",
              "      <td>2021-01-10</td>\n",
              "      <td>Barbour</td>\n",
              "      <td>Alabama</td>\n",
              "      <td>1005.0</td>\n",
              "      <td>1658</td>\n",
              "      <td>35.0</td>\n",
              "      <td>949.0</td>\n",
              "      <td>28.0</td>\n",
              "      <td>709.0</td>\n",
              "      <td>7.0</td>\n",
              "    </tr>\n",
              "    <tr>\n",
              "      <th>3</th>\n",
              "      <td>2021-01-10</td>\n",
              "      <td>Bibb</td>\n",
              "      <td>Alabama</td>\n",
              "      <td>1007.0</td>\n",
              "      <td>2051</td>\n",
              "      <td>48.0</td>\n",
              "      <td>1703.0</td>\n",
              "      <td>28.0</td>\n",
              "      <td>348.0</td>\n",
              "      <td>20.0</td>\n",
              "    </tr>\n",
              "    <tr>\n",
              "      <th>4</th>\n",
              "      <td>2021-01-10</td>\n",
              "      <td>Blount</td>\n",
              "      <td>Alabama</td>\n",
              "      <td>1009.0</td>\n",
              "      <td>5066</td>\n",
              "      <td>77.0</td>\n",
              "      <td>3856.0</td>\n",
              "      <td>68.0</td>\n",
              "      <td>1210.0</td>\n",
              "      <td>9.0</td>\n",
              "    </tr>\n",
              "  </tbody>\n",
              "</table>\n",
              "</div>"
            ],
            "text/plain": [
              "         date   county  ... probable_cases  probable_deaths\n",
              "0  2021-01-10  Autauga  ...          553.0              7.0\n",
              "1  2021-01-10  Baldwin  ...         4179.0             48.0\n",
              "2  2021-01-10  Barbour  ...          709.0              7.0\n",
              "3  2021-01-10     Bibb  ...          348.0             20.0\n",
              "4  2021-01-10   Blount  ...         1210.0              9.0\n",
              "\n",
              "[5 rows x 10 columns]"
            ]
          },
          "metadata": {
            "tags": []
          },
          "execution_count": 117
        }
      ]
    },
    {
      "cell_type": "code",
      "metadata": {
        "id": "aelHrRPVUM_b"
      },
      "source": [
        "exon = pd.read_csv('/content/finalizederest.csv')"
      ],
      "execution_count": 118,
      "outputs": []
    },
    {
      "cell_type": "code",
      "metadata": {
        "id": "tuiSB4CUURQD"
      },
      "source": [
        "gabba = []\n",
        "for x in dfhere['county']:\n",
        "  x = x.split()\n",
        "  if x[-1] == 'Area':\n",
        "    x.pop()\n",
        "    x.pop()\n",
        "    x = ' '.join(x)\n",
        "    gabba.append(x)\n",
        "  elif x[-1] == 'Borough':\n",
        "    x.pop()\n",
        "    x = ' '.join(x)\n",
        "    gabba.append(x)\n",
        "  elif x[-1] == 'Municipality':\n",
        "    x.pop()\n",
        "    x = ' '.join(x)\n",
        "    gabba.append(x)\n",
        "  elif x[-1] == 'city':\n",
        "    x.pop()\n",
        "    x = ' '.join(x)\n",
        "    gabba.append(x)\n",
        "  elif x[-1] == 'Parish':\n",
        "    x.pop()\n",
        "    x = ' '.join(x)\n",
        "    gabba.append(x)\n",
        "  else:\n",
        "    x = ' '.join(x)\n",
        "    gabba.append(x)\n"
      ],
      "execution_count": 119,
      "outputs": []
    },
    {
      "cell_type": "code",
      "metadata": {
        "id": "qJhRiy2CUYDx"
      },
      "source": [
        "dfhere['county'] = gabba"
      ],
      "execution_count": 120,
      "outputs": []
    },
    {
      "cell_type": "code",
      "metadata": {
        "id": "18p7K63YW8Ny"
      },
      "source": [
        "us_state_abbrev = {\n",
        "    'Alabama': 'AL',\n",
        "    'Alaska': 'AK',\n",
        "    'American Samoa': 'AS',\n",
        "    'Arizona': 'AZ',\n",
        "    'Arkansas': 'AR',\n",
        "    'California': 'CA',\n",
        "    'Colorado': 'CO',\n",
        "    'Connecticut': 'CT',\n",
        "    'Delaware': 'DE',\n",
        "    'District of Columbia': 'DC',\n",
        "    'Florida': 'FL',\n",
        "    'Georgia': 'GA',\n",
        "    'Guam': 'GU',\n",
        "    'Hawaii': 'HI',\n",
        "    'Idaho': 'ID',\n",
        "    'Illinois': 'IL',\n",
        "    'Indiana': 'IN',\n",
        "    'Iowa': 'IA',\n",
        "    'Kansas': 'KS',\n",
        "    'Kentucky': 'KY',\n",
        "    'Louisiana': 'LA',\n",
        "    'Maine': 'ME',\n",
        "    'Maryland': 'MD',\n",
        "    'Massachusetts': 'MA',\n",
        "    'Michigan': 'MI',\n",
        "    'Minnesota': 'MN',\n",
        "    'Mississippi': 'MS',\n",
        "    'Missouri': 'MO',\n",
        "    'Montana': 'MT',\n",
        "    'Nebraska': 'NE',\n",
        "    'Nevada': 'NV',\n",
        "    'New Hampshire': 'NH',\n",
        "    'New Jersey': 'NJ',\n",
        "    'New Mexico': 'NM',\n",
        "    'New York': 'NY',\n",
        "    'North Carolina': 'NC',\n",
        "    'North Dakota': 'ND',\n",
        "    'Northern Mariana Islands':'MP',\n",
        "    'Ohio': 'OH',\n",
        "    'Oklahoma': 'OK',\n",
        "    'Oregon': 'OR',\n",
        "    'Pennsylvania': 'PA',\n",
        "    'Puerto Rico': 'PR',\n",
        "    'Rhode Island': 'RI',\n",
        "    'South Carolina': 'SC',\n",
        "    'South Dakota': 'SD',\n",
        "    'Tennessee': 'TN',\n",
        "    'Texas': 'TX',\n",
        "    'Utah': 'UT',\n",
        "    'Vermont': 'VT',\n",
        "    'Virgin Islands': 'VI',\n",
        "    'Virginia': 'VA',\n",
        "    'Washington': 'WA',\n",
        "    'West Virginia': 'WV',\n",
        "    'Wisconsin': 'WI',\n",
        "    'Wyoming': 'WY'\n",
        "}\n"
      ],
      "execution_count": 121,
      "outputs": []
    },
    {
      "cell_type": "code",
      "metadata": {
        "id": "v9Q6mCbfUbFX"
      },
      "source": [
        "gabba = []\n",
        "\n",
        "for x in dfhere['state']:\n",
        "  gabba.append(us_state_abbrev[x])\n",
        "\n",
        "dfhere['state'] = gabba"
      ],
      "execution_count": 122,
      "outputs": []
    },
    {
      "cell_type": "code",
      "metadata": {
        "id": "X1CVRSElUeWz"
      },
      "source": [
        "gabba = []\n",
        "\n",
        "for x in dfhere['county']:\n",
        "  x = x.split()\n",
        "  if x[-1] == 'and':\n",
        "    x.pop()\n",
        "    x.pop()\n",
        "    x = ' '.join(x)\n",
        "    gabba.append(x)\n",
        "  else:\n",
        "    x = ' '.join(x)\n",
        "    gabba.append(x)\n",
        "\n",
        "dfhere['county'] = gabba\n",
        "gabba"
      ],
      "execution_count": null,
      "outputs": []
    },
    {
      "cell_type": "code",
      "metadata": {
        "colab": {
          "base_uri": "https://localhost:8080/"
        },
        "id": "3FKJcWFrUgKU",
        "outputId": "033a457e-3f3e-4792-b2b9-ba5fe65e2706"
      },
      "source": [
        "dfhere['county'][1872] = 'New York'"
      ],
      "execution_count": 124,
      "outputs": [
        {
          "output_type": "stream",
          "text": [
            "/usr/local/lib/python3.6/dist-packages/ipykernel_launcher.py:1: SettingWithCopyWarning: \n",
            "A value is trying to be set on a copy of a slice from a DataFrame\n",
            "\n",
            "See the caveats in the documentation: https://pandas.pydata.org/pandas-docs/stable/user_guide/indexing.html#returning-a-view-versus-a-copy\n",
            "  \"\"\"Entry point for launching an IPython kernel.\n"
          ],
          "name": "stderr"
        }
      ]
    },
    {
      "cell_type": "code",
      "metadata": {
        "id": "8pKsWUkDUjpv"
      },
      "source": [
        "dfhere['CTYNAME'] = dfhere['county'] + ', ' + dfhere['state']"
      ],
      "execution_count": 125,
      "outputs": []
    },
    {
      "cell_type": "code",
      "metadata": {
        "id": "39yXhZ89UnMc"
      },
      "source": [
        "x = dfhere['state'] == 'NY'\n",
        "\n",
        "dfhere[x]"
      ],
      "execution_count": null,
      "outputs": []
    },
    {
      "cell_type": "code",
      "metadata": {
        "id": "CUzRKWmIUp65"
      },
      "source": [
        "dfhere.sort_values(by = 'CTYNAME', inplace=True)"
      ],
      "execution_count": 127,
      "outputs": []
    },
    {
      "cell_type": "code",
      "metadata": {
        "id": "giB-f-wPUumQ"
      },
      "source": [
        "exon.sort_values(by = 'CTYNAME', inplace=True, ignore_index=True)"
      ],
      "execution_count": 128,
      "outputs": []
    },
    {
      "cell_type": "code",
      "metadata": {
        "colab": {
          "base_uri": "https://localhost:8080/"
        },
        "id": "3cJyI3n4UxyO",
        "outputId": "3fc8ed3f-83bd-4d91-acef-fc217503afd3"
      },
      "source": [
        "exon['POPESTIMATE'][219] = 1147532"
      ],
      "execution_count": 129,
      "outputs": [
        {
          "output_type": "stream",
          "text": [
            "/usr/local/lib/python3.6/dist-packages/ipykernel_launcher.py:1: SettingWithCopyWarning: \n",
            "A value is trying to be set on a copy of a slice from a DataFrame\n",
            "\n",
            "See the caveats in the documentation: https://pandas.pydata.org/pandas-docs/stable/user_guide/indexing.html#returning-a-view-versus-a-copy\n",
            "  \"\"\"Entry point for launching an IPython kernel.\n"
          ],
          "name": "stderr"
        }
      ]
    },
    {
      "cell_type": "code",
      "metadata": {
        "colab": {
          "base_uri": "https://localhost:8080/"
        },
        "id": "z-Y7MBLyU23f",
        "outputId": "f9089c14-3535-4d56-91c2-e5853b38f195"
      },
      "source": [
        "exon['POPESTIMATE'][2653] = 998684"
      ],
      "execution_count": 130,
      "outputs": [
        {
          "output_type": "stream",
          "text": [
            "/usr/local/lib/python3.6/dist-packages/ipykernel_launcher.py:1: SettingWithCopyWarning: \n",
            "A value is trying to be set on a copy of a slice from a DataFrame\n",
            "\n",
            "See the caveats in the documentation: https://pandas.pydata.org/pandas-docs/stable/user_guide/indexing.html#returning-a-view-versus-a-copy\n",
            "  \"\"\"Entry point for launching an IPython kernel.\n"
          ],
          "name": "stderr"
        }
      ]
    },
    {
      "cell_type": "code",
      "metadata": {
        "id": "fxikeCm_U33h"
      },
      "source": [
        "DFTEST = pd.merge(exon, dfhere, on='CTYNAME', how='outer', indicator=True)"
      ],
      "execution_count": 131,
      "outputs": []
    },
    {
      "cell_type": "code",
      "metadata": {
        "colab": {
          "base_uri": "https://localhost:8080/"
        },
        "id": "kgSQY-5CU_W_",
        "outputId": "ece62f9d-9d2a-4eda-de74-af82904d7861"
      },
      "source": [
        "DFTEST['date_y'].value_counts()"
      ],
      "execution_count": 132,
      "outputs": [
        {
          "output_type": "execute_result",
          "data": {
            "text/plain": [
              "2021-01-10    3258\n",
              "Name: date_y, dtype: int64"
            ]
          },
          "metadata": {
            "tags": []
          },
          "execution_count": 132
        }
      ]
    },
    {
      "cell_type": "code",
      "metadata": {
        "id": "PhBWvQF6VCPO"
      },
      "source": [
        "X = DFTEST['_merge'] == 'right_only'\n",
        "\n",
        "y = DFTEST[X].index"
      ],
      "execution_count": 133,
      "outputs": []
    },
    {
      "cell_type": "code",
      "metadata": {
        "id": "MVJJN8GhVFRa"
      },
      "source": [
        "DFTEST.drop(labels=y, axis=0, inplace=True)"
      ],
      "execution_count": 134,
      "outputs": []
    },
    {
      "cell_type": "code",
      "metadata": {
        "id": "dbvH3qZfVGF2"
      },
      "source": [
        "x = ['date_x', 'state_x',\t'fips_x',\t'cases_x', 'deaths_x',\t'confirmed_cases_x',\t'confirmed_deaths_x',\t'probable_cases_x',\t'probable_deaths_x']\n",
        "\n",
        "DFTEST.drop(labels=x, axis=1, inplace=True)"
      ],
      "execution_count": 135,
      "outputs": []
    },
    {
      "cell_type": "code",
      "metadata": {
        "colab": {
          "base_uri": "https://localhost:8080/",
          "height": 403
        },
        "id": "Z39_3V3QVI3K",
        "outputId": "4188e590-950d-40f3-ba35-4f39c32b71d4"
      },
      "source": [
        "x = exon['CTYNAME'].duplicated()\n",
        "\n",
        "exon[x]"
      ],
      "execution_count": 136,
      "outputs": [
        {
          "output_type": "execute_result",
          "data": {
            "text/html": [
              "<div>\n",
              "<style scoped>\n",
              "    .dataframe tbody tr th:only-of-type {\n",
              "        vertical-align: middle;\n",
              "    }\n",
              "\n",
              "    .dataframe tbody tr th {\n",
              "        vertical-align: top;\n",
              "    }\n",
              "\n",
              "    .dataframe thead th {\n",
              "        text-align: right;\n",
              "    }\n",
              "</style>\n",
              "<table border=\"1\" class=\"dataframe\">\n",
              "  <thead>\n",
              "    <tr style=\"text-align: right;\">\n",
              "      <th></th>\n",
              "      <th>Unnamed: 0</th>\n",
              "      <th>Unnamed: 0.1</th>\n",
              "      <th>CTYNAME</th>\n",
              "      <th>STCOU</th>\n",
              "      <th>Landarea</th>\n",
              "      <th>POPESTIMATE2019</th>\n",
              "      <th>date</th>\n",
              "      <th>state</th>\n",
              "      <th>fips</th>\n",
              "      <th>cases</th>\n",
              "      <th>deaths</th>\n",
              "      <th>confirmed_cases</th>\n",
              "      <th>confirmed_deaths</th>\n",
              "      <th>probable_cases</th>\n",
              "      <th>probable_deaths</th>\n",
              "      <th>Unnamed: 0.1.1</th>\n",
              "      <th>POPESTIMATE</th>\n",
              "      <th>POPEST_MALE</th>\n",
              "      <th>POPEST_FEM</th>\n",
              "      <th>UNDER5_TOT</th>\n",
              "      <th>UNDER5_MALE</th>\n",
              "      <th>UNDER5_FEM</th>\n",
              "      <th>AGE513_TOT</th>\n",
              "      <th>AGE513_MALE</th>\n",
              "      <th>AGE513_FEM</th>\n",
              "      <th>AGE1417_TOT</th>\n",
              "      <th>AGE1417_MALE</th>\n",
              "      <th>AGE1417_FEM</th>\n",
              "      <th>AGE1824_TOT</th>\n",
              "      <th>AGE1824_MALE</th>\n",
              "      <th>AGE1824_FEM</th>\n",
              "      <th>AGE16PLUS_TOT</th>\n",
              "      <th>AGE16PLUS_MALE</th>\n",
              "      <th>AGE16PLUS_FEM</th>\n",
              "      <th>AGE18PLUS_TOT</th>\n",
              "      <th>AGE18PLUS_MALE</th>\n",
              "      <th>AGE18PLUS_FEM</th>\n",
              "      <th>AGE1544_TOT</th>\n",
              "      <th>AGE1544_MALE</th>\n",
              "      <th>AGE1544_FEM</th>\n",
              "      <th>...</th>\n",
              "      <th>AGE4044_TOT</th>\n",
              "      <th>AGE4044_MALE</th>\n",
              "      <th>AGE4044_FEM</th>\n",
              "      <th>AGE4549_TOT</th>\n",
              "      <th>AGE4549_MALE</th>\n",
              "      <th>AGE4549_FEM</th>\n",
              "      <th>AGE5054_TOT</th>\n",
              "      <th>AGE5054_MALE</th>\n",
              "      <th>AGE5054_FEM</th>\n",
              "      <th>AGE5559_TOT</th>\n",
              "      <th>AGE5559_MALE</th>\n",
              "      <th>AGE5559_FEM</th>\n",
              "      <th>AGE6064_TOT</th>\n",
              "      <th>AGE6064_MALE</th>\n",
              "      <th>AGE6064_FEM</th>\n",
              "      <th>AGE6569_TOT</th>\n",
              "      <th>AGE6569_MALE</th>\n",
              "      <th>AGE6569_FEM</th>\n",
              "      <th>AGE7074_TOT</th>\n",
              "      <th>AGE7074_MALE</th>\n",
              "      <th>AGE7074_FEM</th>\n",
              "      <th>AGE7579_TOT</th>\n",
              "      <th>AGE7579_MALE</th>\n",
              "      <th>AGE7579_FEM</th>\n",
              "      <th>AGE8084_TOT</th>\n",
              "      <th>AGE8084_MALE</th>\n",
              "      <th>AGE8084_FEM</th>\n",
              "      <th>AGE85PLUS_TOT</th>\n",
              "      <th>AGE85PLUS_MALE</th>\n",
              "      <th>AGE85PLUS_FEM</th>\n",
              "      <th>MEDIAN_AGE_TOT</th>\n",
              "      <th>MEDIAN_AGE_MALE</th>\n",
              "      <th>MEDIAN_AGE_FEM</th>\n",
              "      <th>COUNTYFP</th>\n",
              "      <th>Unnamed: 0.1.1.1</th>\n",
              "      <th>NEVER</th>\n",
              "      <th>RARELY</th>\n",
              "      <th>SOMETIMES</th>\n",
              "      <th>FREQUENTLY</th>\n",
              "      <th>ALWAYS</th>\n",
              "    </tr>\n",
              "  </thead>\n",
              "  <tbody>\n",
              "    <tr>\n",
              "      <th>123</th>\n",
              "      <td>1918</td>\n",
              "      <td>1917</td>\n",
              "      <td>Baltimore, MD</td>\n",
              "      <td>NaN</td>\n",
              "      <td>597.60</td>\n",
              "      <td>827370</td>\n",
              "      <td>NaN</td>\n",
              "      <td>NaN</td>\n",
              "      <td>NaN</td>\n",
              "      <td>23128</td>\n",
              "      <td>688</td>\n",
              "      <td>23104.0</td>\n",
              "      <td>664.0</td>\n",
              "      <td>24.0</td>\n",
              "      <td>24.0</td>\n",
              "      <td>1917.0</td>\n",
              "      <td>827370.0</td>\n",
              "      <td>391735.0</td>\n",
              "      <td>435635.0</td>\n",
              "      <td>48807.0</td>\n",
              "      <td>24751.0</td>\n",
              "      <td>24056.0</td>\n",
              "      <td>90112.0</td>\n",
              "      <td>45765.0</td>\n",
              "      <td>44347.0</td>\n",
              "      <td>39963.0</td>\n",
              "      <td>20471.0</td>\n",
              "      <td>19492.0</td>\n",
              "      <td>72391.0</td>\n",
              "      <td>35625.0</td>\n",
              "      <td>36766.0</td>\n",
              "      <td>668424.0</td>\n",
              "      <td>311075.0</td>\n",
              "      <td>357349.0</td>\n",
              "      <td>648488.0</td>\n",
              "      <td>300748.0</td>\n",
              "      <td>347740.0</td>\n",
              "      <td>317001.0</td>\n",
              "      <td>153624.0</td>\n",
              "      <td>163377.0</td>\n",
              "      <td>...</td>\n",
              "      <td>48309.0</td>\n",
              "      <td>22694.0</td>\n",
              "      <td>25615.0</td>\n",
              "      <td>49909.0</td>\n",
              "      <td>23479.0</td>\n",
              "      <td>26430.0</td>\n",
              "      <td>52695.0</td>\n",
              "      <td>24902.0</td>\n",
              "      <td>27793.0</td>\n",
              "      <td>57596.0</td>\n",
              "      <td>27149.0</td>\n",
              "      <td>30447.0</td>\n",
              "      <td>55859.0</td>\n",
              "      <td>25888.0</td>\n",
              "      <td>29971.0</td>\n",
              "      <td>45690.0</td>\n",
              "      <td>20615.0</td>\n",
              "      <td>25075.0</td>\n",
              "      <td>36158.0</td>\n",
              "      <td>16109.0</td>\n",
              "      <td>20049.0</td>\n",
              "      <td>24304.0</td>\n",
              "      <td>10217.0</td>\n",
              "      <td>14087.0</td>\n",
              "      <td>16927.0</td>\n",
              "      <td>6602.0</td>\n",
              "      <td>10325.0</td>\n",
              "      <td>22225.0</td>\n",
              "      <td>7542.0</td>\n",
              "      <td>14683.0</td>\n",
              "      <td>39.6</td>\n",
              "      <td>37.9</td>\n",
              "      <td>41.3</td>\n",
              "      <td>24005.0</td>\n",
              "      <td>1193.0</td>\n",
              "      <td>0.013</td>\n",
              "      <td>0.024</td>\n",
              "      <td>0.043</td>\n",
              "      <td>0.142</td>\n",
              "      <td>0.777</td>\n",
              "    </tr>\n",
              "    <tr>\n",
              "      <th>892</th>\n",
              "      <td>219</td>\n",
              "      <td>218</td>\n",
              "      <td>Fairfax, VA</td>\n",
              "      <td>NaN</td>\n",
              "      <td>393.57</td>\n",
              "      <td>1147532</td>\n",
              "      <td>NaN</td>\n",
              "      <td>NaN</td>\n",
              "      <td>NaN</td>\n",
              "      <td>25791</td>\n",
              "      <td>609</td>\n",
              "      <td>NaN</td>\n",
              "      <td>NaN</td>\n",
              "      <td>NaN</td>\n",
              "      <td>NaN</td>\n",
              "      <td>218.0</td>\n",
              "      <td>24019.0</td>\n",
              "      <td>11808.0</td>\n",
              "      <td>12211.0</td>\n",
              "      <td>2401.0</td>\n",
              "      <td>1270.0</td>\n",
              "      <td>1131.0</td>\n",
              "      <td>2446.0</td>\n",
              "      <td>1254.0</td>\n",
              "      <td>1192.0</td>\n",
              "      <td>1059.0</td>\n",
              "      <td>519.0</td>\n",
              "      <td>540.0</td>\n",
              "      <td>2010.0</td>\n",
              "      <td>984.0</td>\n",
              "      <td>1026.0</td>\n",
              "      <td>18644.0</td>\n",
              "      <td>9027.0</td>\n",
              "      <td>9617.0</td>\n",
              "      <td>18113.0</td>\n",
              "      <td>8765.0</td>\n",
              "      <td>9348.0</td>\n",
              "      <td>9269.0</td>\n",
              "      <td>4682.0</td>\n",
              "      <td>4587.0</td>\n",
              "      <td>...</td>\n",
              "      <td>1487.0</td>\n",
              "      <td>710.0</td>\n",
              "      <td>777.0</td>\n",
              "      <td>1531.0</td>\n",
              "      <td>758.0</td>\n",
              "      <td>773.0</td>\n",
              "      <td>1529.0</td>\n",
              "      <td>755.0</td>\n",
              "      <td>774.0</td>\n",
              "      <td>1637.0</td>\n",
              "      <td>789.0</td>\n",
              "      <td>848.0</td>\n",
              "      <td>1453.0</td>\n",
              "      <td>735.0</td>\n",
              "      <td>718.0</td>\n",
              "      <td>1096.0</td>\n",
              "      <td>494.0</td>\n",
              "      <td>602.0</td>\n",
              "      <td>904.0</td>\n",
              "      <td>394.0</td>\n",
              "      <td>510.0</td>\n",
              "      <td>593.0</td>\n",
              "      <td>266.0</td>\n",
              "      <td>327.0</td>\n",
              "      <td>416.0</td>\n",
              "      <td>152.0</td>\n",
              "      <td>264.0</td>\n",
              "      <td>484.0</td>\n",
              "      <td>132.0</td>\n",
              "      <td>352.0</td>\n",
              "      <td>37.4</td>\n",
              "      <td>35.7</td>\n",
              "      <td>39.0</td>\n",
              "      <td>51059.0</td>\n",
              "      <td>2844.0</td>\n",
              "      <td>0.018</td>\n",
              "      <td>0.016</td>\n",
              "      <td>0.054</td>\n",
              "      <td>0.163</td>\n",
              "      <td>0.748</td>\n",
              "    </tr>\n",
              "    <tr>\n",
              "      <th>971</th>\n",
              "      <td>224</td>\n",
              "      <td>223</td>\n",
              "      <td>Franklin, VA</td>\n",
              "      <td>NaN</td>\n",
              "      <td>683.20</td>\n",
              "      <td>56042</td>\n",
              "      <td>NaN</td>\n",
              "      <td>NaN</td>\n",
              "      <td>NaN</td>\n",
              "      <td>1178</td>\n",
              "      <td>7</td>\n",
              "      <td>NaN</td>\n",
              "      <td>NaN</td>\n",
              "      <td>NaN</td>\n",
              "      <td>NaN</td>\n",
              "      <td>223.0</td>\n",
              "      <td>7967.0</td>\n",
              "      <td>3629.0</td>\n",
              "      <td>4338.0</td>\n",
              "      <td>653.0</td>\n",
              "      <td>336.0</td>\n",
              "      <td>317.0</td>\n",
              "      <td>978.0</td>\n",
              "      <td>495.0</td>\n",
              "      <td>483.0</td>\n",
              "      <td>439.0</td>\n",
              "      <td>244.0</td>\n",
              "      <td>195.0</td>\n",
              "      <td>566.0</td>\n",
              "      <td>282.0</td>\n",
              "      <td>284.0</td>\n",
              "      <td>6110.0</td>\n",
              "      <td>2664.0</td>\n",
              "      <td>3446.0</td>\n",
              "      <td>5897.0</td>\n",
              "      <td>2554.0</td>\n",
              "      <td>3343.0</td>\n",
              "      <td>2661.0</td>\n",
              "      <td>1264.0</td>\n",
              "      <td>1397.0</td>\n",
              "      <td>...</td>\n",
              "      <td>365.0</td>\n",
              "      <td>172.0</td>\n",
              "      <td>193.0</td>\n",
              "      <td>411.0</td>\n",
              "      <td>189.0</td>\n",
              "      <td>222.0</td>\n",
              "      <td>452.0</td>\n",
              "      <td>175.0</td>\n",
              "      <td>277.0</td>\n",
              "      <td>584.0</td>\n",
              "      <td>241.0</td>\n",
              "      <td>343.0</td>\n",
              "      <td>604.0</td>\n",
              "      <td>251.0</td>\n",
              "      <td>353.0</td>\n",
              "      <td>443.0</td>\n",
              "      <td>201.0</td>\n",
              "      <td>242.0</td>\n",
              "      <td>429.0</td>\n",
              "      <td>188.0</td>\n",
              "      <td>241.0</td>\n",
              "      <td>260.0</td>\n",
              "      <td>110.0</td>\n",
              "      <td>150.0</td>\n",
              "      <td>192.0</td>\n",
              "      <td>70.0</td>\n",
              "      <td>122.0</td>\n",
              "      <td>195.0</td>\n",
              "      <td>47.0</td>\n",
              "      <td>148.0</td>\n",
              "      <td>39.5</td>\n",
              "      <td>35.4</td>\n",
              "      <td>43.1</td>\n",
              "      <td>51067.0</td>\n",
              "      <td>2849.0</td>\n",
              "      <td>0.074</td>\n",
              "      <td>0.098</td>\n",
              "      <td>0.069</td>\n",
              "      <td>0.189</td>\n",
              "      <td>0.570</td>\n",
              "    </tr>\n",
              "    <tr>\n",
              "      <th>2411</th>\n",
              "      <td>268</td>\n",
              "      <td>267</td>\n",
              "      <td>Richmond, VA</td>\n",
              "      <td>NaN</td>\n",
              "      <td>216.00</td>\n",
              "      <td>230436</td>\n",
              "      <td>NaN</td>\n",
              "      <td>NaN</td>\n",
              "      <td>NaN</td>\n",
              "      <td>5840</td>\n",
              "      <td>78</td>\n",
              "      <td>NaN</td>\n",
              "      <td>NaN</td>\n",
              "      <td>NaN</td>\n",
              "      <td>NaN</td>\n",
              "      <td>267.0</td>\n",
              "      <td>230436.0</td>\n",
              "      <td>109317.0</td>\n",
              "      <td>121119.0</td>\n",
              "      <td>13338.0</td>\n",
              "      <td>6866.0</td>\n",
              "      <td>6472.0</td>\n",
              "      <td>19122.0</td>\n",
              "      <td>9663.0</td>\n",
              "      <td>9459.0</td>\n",
              "      <td>7226.0</td>\n",
              "      <td>3595.0</td>\n",
              "      <td>3631.0</td>\n",
              "      <td>26801.0</td>\n",
              "      <td>12360.0</td>\n",
              "      <td>14441.0</td>\n",
              "      <td>194312.0</td>\n",
              "      <td>90954.0</td>\n",
              "      <td>103358.0</td>\n",
              "      <td>190750.0</td>\n",
              "      <td>89193.0</td>\n",
              "      <td>101557.0</td>\n",
              "      <td>111813.0</td>\n",
              "      <td>53917.0</td>\n",
              "      <td>57896.0</td>\n",
              "      <td>...</td>\n",
              "      <td>12010.0</td>\n",
              "      <td>6002.0</td>\n",
              "      <td>6008.0</td>\n",
              "      <td>11621.0</td>\n",
              "      <td>5688.0</td>\n",
              "      <td>5933.0</td>\n",
              "      <td>12592.0</td>\n",
              "      <td>5929.0</td>\n",
              "      <td>6663.0</td>\n",
              "      <td>14346.0</td>\n",
              "      <td>6602.0</td>\n",
              "      <td>7744.0</td>\n",
              "      <td>13944.0</td>\n",
              "      <td>6330.0</td>\n",
              "      <td>7614.0</td>\n",
              "      <td>11569.0</td>\n",
              "      <td>5189.0</td>\n",
              "      <td>6380.0</td>\n",
              "      <td>7863.0</td>\n",
              "      <td>3518.0</td>\n",
              "      <td>4345.0</td>\n",
              "      <td>4926.0</td>\n",
              "      <td>2051.0</td>\n",
              "      <td>2875.0</td>\n",
              "      <td>3197.0</td>\n",
              "      <td>1180.0</td>\n",
              "      <td>2017.0</td>\n",
              "      <td>4254.0</td>\n",
              "      <td>1441.0</td>\n",
              "      <td>2813.0</td>\n",
              "      <td>34.4</td>\n",
              "      <td>33.8</td>\n",
              "      <td>35.0</td>\n",
              "      <td>51760.0</td>\n",
              "      <td>2898.0</td>\n",
              "      <td>0.060</td>\n",
              "      <td>0.031</td>\n",
              "      <td>0.092</td>\n",
              "      <td>0.275</td>\n",
              "      <td>0.541</td>\n",
              "    </tr>\n",
              "    <tr>\n",
              "      <th>2424</th>\n",
              "      <td>269</td>\n",
              "      <td>268</td>\n",
              "      <td>Roanoke, VA</td>\n",
              "      <td>NaN</td>\n",
              "      <td>251.09</td>\n",
              "      <td>94186</td>\n",
              "      <td>NaN</td>\n",
              "      <td>NaN</td>\n",
              "      <td>NaN</td>\n",
              "      <td>2001</td>\n",
              "      <td>19</td>\n",
              "      <td>NaN</td>\n",
              "      <td>NaN</td>\n",
              "      <td>NaN</td>\n",
              "      <td>NaN</td>\n",
              "      <td>268.0</td>\n",
              "      <td>94186.0</td>\n",
              "      <td>45381.0</td>\n",
              "      <td>48805.0</td>\n",
              "      <td>4172.0</td>\n",
              "      <td>2172.0</td>\n",
              "      <td>2000.0</td>\n",
              "      <td>9664.0</td>\n",
              "      <td>5029.0</td>\n",
              "      <td>4635.0</td>\n",
              "      <td>4682.0</td>\n",
              "      <td>2374.0</td>\n",
              "      <td>2308.0</td>\n",
              "      <td>7236.0</td>\n",
              "      <td>3574.0</td>\n",
              "      <td>3662.0</td>\n",
              "      <td>78041.0</td>\n",
              "      <td>37015.0</td>\n",
              "      <td>41026.0</td>\n",
              "      <td>75668.0</td>\n",
              "      <td>35806.0</td>\n",
              "      <td>39862.0</td>\n",
              "      <td>32827.0</td>\n",
              "      <td>16301.0</td>\n",
              "      <td>16526.0</td>\n",
              "      <td>...</td>\n",
              "      <td>5618.0</td>\n",
              "      <td>2770.0</td>\n",
              "      <td>2848.0</td>\n",
              "      <td>6327.0</td>\n",
              "      <td>3105.0</td>\n",
              "      <td>3222.0</td>\n",
              "      <td>6150.0</td>\n",
              "      <td>2993.0</td>\n",
              "      <td>3157.0</td>\n",
              "      <td>6817.0</td>\n",
              "      <td>3309.0</td>\n",
              "      <td>3508.0</td>\n",
              "      <td>6570.0</td>\n",
              "      <td>3077.0</td>\n",
              "      <td>3493.0</td>\n",
              "      <td>6131.0</td>\n",
              "      <td>2869.0</td>\n",
              "      <td>3262.0</td>\n",
              "      <td>5417.0</td>\n",
              "      <td>2442.0</td>\n",
              "      <td>2975.0</td>\n",
              "      <td>3730.0</td>\n",
              "      <td>1656.0</td>\n",
              "      <td>2074.0</td>\n",
              "      <td>2580.0</td>\n",
              "      <td>1000.0</td>\n",
              "      <td>1580.0</td>\n",
              "      <td>2676.0</td>\n",
              "      <td>855.0</td>\n",
              "      <td>1821.0</td>\n",
              "      <td>44.4</td>\n",
              "      <td>42.5</td>\n",
              "      <td>46.2</td>\n",
              "      <td>51161.0</td>\n",
              "      <td>2899.0</td>\n",
              "      <td>0.065</td>\n",
              "      <td>0.045</td>\n",
              "      <td>0.077</td>\n",
              "      <td>0.205</td>\n",
              "      <td>0.607</td>\n",
              "    </tr>\n",
              "    <tr>\n",
              "      <th>2653</th>\n",
              "      <td>1630</td>\n",
              "      <td>1629</td>\n",
              "      <td>St. Louis, MO</td>\n",
              "      <td>NaN</td>\n",
              "      <td>505.55</td>\n",
              "      <td>300576</td>\n",
              "      <td>NaN</td>\n",
              "      <td>NaN</td>\n",
              "      <td>NaN</td>\n",
              "      <td>37658</td>\n",
              "      <td>904</td>\n",
              "      <td>37658.0</td>\n",
              "      <td>904.0</td>\n",
              "      <td>NaN</td>\n",
              "      <td>NaN</td>\n",
              "      <td>1629.0</td>\n",
              "      <td>998684.0</td>\n",
              "      <td>472059.0</td>\n",
              "      <td>522146.0</td>\n",
              "      <td>58074.0</td>\n",
              "      <td>29524.0</td>\n",
              "      <td>28550.0</td>\n",
              "      <td>109183.0</td>\n",
              "      <td>55963.0</td>\n",
              "      <td>53220.0</td>\n",
              "      <td>50594.0</td>\n",
              "      <td>25656.0</td>\n",
              "      <td>24938.0</td>\n",
              "      <td>83109.0</td>\n",
              "      <td>41437.0</td>\n",
              "      <td>41672.0</td>\n",
              "      <td>801638.0</td>\n",
              "      <td>373892.0</td>\n",
              "      <td>427746.0</td>\n",
              "      <td>776354.0</td>\n",
              "      <td>360916.0</td>\n",
              "      <td>415438.0</td>\n",
              "      <td>370848.0</td>\n",
              "      <td>181385.0</td>\n",
              "      <td>189463.0</td>\n",
              "      <td>...</td>\n",
              "      <td>57411.0</td>\n",
              "      <td>27151.0</td>\n",
              "      <td>30260.0</td>\n",
              "      <td>58620.0</td>\n",
              "      <td>27461.0</td>\n",
              "      <td>31159.0</td>\n",
              "      <td>61306.0</td>\n",
              "      <td>28807.0</td>\n",
              "      <td>32499.0</td>\n",
              "      <td>70479.0</td>\n",
              "      <td>32955.0</td>\n",
              "      <td>37524.0</td>\n",
              "      <td>68892.0</td>\n",
              "      <td>32176.0</td>\n",
              "      <td>36716.0</td>\n",
              "      <td>57785.0</td>\n",
              "      <td>26113.0</td>\n",
              "      <td>31672.0</td>\n",
              "      <td>45978.0</td>\n",
              "      <td>20175.0</td>\n",
              "      <td>25803.0</td>\n",
              "      <td>31865.0</td>\n",
              "      <td>13543.0</td>\n",
              "      <td>18322.0</td>\n",
              "      <td>21921.0</td>\n",
              "      <td>8693.0</td>\n",
              "      <td>13228.0</td>\n",
              "      <td>26731.0</td>\n",
              "      <td>9012.0</td>\n",
              "      <td>17719.0</td>\n",
              "      <td>40.3</td>\n",
              "      <td>38.4</td>\n",
              "      <td>42.2</td>\n",
              "      <td>29189.0</td>\n",
              "      <td>1577.0</td>\n",
              "      <td>0.024</td>\n",
              "      <td>0.028</td>\n",
              "      <td>0.069</td>\n",
              "      <td>0.182</td>\n",
              "      <td>0.697</td>\n",
              "    </tr>\n",
              "  </tbody>\n",
              "</table>\n",
              "<p>6 rows × 113 columns</p>\n",
              "</div>"
            ],
            "text/plain": [
              "      Unnamed: 0  Unnamed: 0.1        CTYNAME  ...  SOMETIMES  FREQUENTLY  ALWAYS\n",
              "123         1918          1917  Baltimore, MD  ...      0.043       0.142   0.777\n",
              "892          219           218    Fairfax, VA  ...      0.054       0.163   0.748\n",
              "971          224           223   Franklin, VA  ...      0.069       0.189   0.570\n",
              "2411         268           267   Richmond, VA  ...      0.092       0.275   0.541\n",
              "2424         269           268    Roanoke, VA  ...      0.077       0.205   0.607\n",
              "2653        1630          1629  St. Louis, MO  ...      0.069       0.182   0.697\n",
              "\n",
              "[6 rows x 113 columns]"
            ]
          },
          "metadata": {
            "tags": []
          },
          "execution_count": 136
        }
      ]
    },
    {
      "cell_type": "code",
      "metadata": {
        "id": "LmmhFhKlVLRo"
      },
      "source": [
        "x = DFTEST['CTYNAME'].duplicated()\n",
        "\n",
        "DFTEST[x]\n",
        "\n",
        "Y = [123, 124, 895, 896, 976, 977, 2432, 2419, 2663, 2665]\n",
        "\n",
        "DFTEST.drop(labels = Y, axis=0, inplace=True)"
      ],
      "execution_count": 137,
      "outputs": []
    },
    {
      "cell_type": "code",
      "metadata": {
        "id": "-HI9J_5xVUp2"
      },
      "source": [
        "DFTEST.rename(columns={'county state_y':'county state',\t'fips_y':'fips', 'cases_y':'cases',\t'deaths_y':'deaths',\t'confirmed_cases_y':'confirmed_cases', 'confirmed_deaths_y':'confirmed_deaths',\t'probable_cases_y':'probable_cases',\t'probable_deaths_y':'probable_deaths'}, inplace=True)"
      ],
      "execution_count": 138,
      "outputs": []
    },
    {
      "cell_type": "code",
      "metadata": {
        "id": "KdTJL23oVX-1"
      },
      "source": [
        "x = DFTEST['CTYNAME'].duplicated()\n",
        "\n",
        "DFTEST[x]\n",
        "\n",
        "y = [2417, 2434]"
      ],
      "execution_count": 139,
      "outputs": []
    },
    {
      "cell_type": "code",
      "metadata": {
        "id": "DK6MYVvoVc_L"
      },
      "source": [
        "DFTEST.drop(labels=y, axis=0, inplace=True)"
      ],
      "execution_count": 140,
      "outputs": []
    },
    {
      "cell_type": "code",
      "metadata": {
        "id": "2M7cmLQrVhQ9"
      },
      "source": [
        "DFTEST['Landarea'] = DFTEST['Landarea'].astype(float)"
      ],
      "execution_count": 141,
      "outputs": []
    },
    {
      "cell_type": "code",
      "metadata": {
        "id": "GL0Hmpq7ViEE"
      },
      "source": [
        "DFTEST['popdensity'] = DFTEST['POPESTIMATE']/DFTEST['Landarea']"
      ],
      "execution_count": 142,
      "outputs": []
    },
    {
      "cell_type": "code",
      "metadata": {
        "id": "MDay4ak3V8sQ"
      },
      "source": [
        "dftest = DFTEST"
      ],
      "execution_count": 143,
      "outputs": []
    },
    {
      "cell_type": "code",
      "metadata": {
        "id": "QE7XM_ZudsMJ"
      },
      "source": [
        "def sambda(x):\n",
        "  s=[]\n",
        "  for j, y in enumerate(x['cases']):\n",
        "    if j == 0:\n",
        "      s.append(0)\n",
        "      h = y\n",
        "    else:\n",
        "      z = y - h\n",
        "      s.append(z)\n",
        "      h = y\n",
        "  return s\n",
        "\n",
        "\n"
      ],
      "execution_count": 144,
      "outputs": []
    },
    {
      "cell_type": "code",
      "metadata": {
        "id": "qyIOB4SFeidf"
      },
      "source": [
        "a = dftimed11['fips'].value_counts()\n",
        "b = a.index"
      ],
      "execution_count": 145,
      "outputs": []
    },
    {
      "cell_type": "code",
      "metadata": {
        "id": "WcDnvoGvf9K1"
      },
      "source": [
        "for m, x in enumerate(b):\n",
        "  y = dftimed11['fips'] == x\n",
        "  z = dftimed11[y]\n",
        "  z.sort_values(by='index1', inplace=True)\n",
        "  c = sambda(z)\n",
        "  z['casegrowth'] = c\n",
        "  if m == 0:\n",
        "    dftimed111 = pd.DataFrame(data=z)\n",
        "  else:\n",
        "    dftimed111 = pd.concat([dftimed111, z], ignore_index=True)"
      ],
      "execution_count": null,
      "outputs": []
    },
    {
      "cell_type": "code",
      "metadata": {
        "id": "deRwqtxdeFT0"
      },
      "source": [
        ""
      ],
      "execution_count": 146,
      "outputs": []
    },
    {
      "cell_type": "code",
      "metadata": {
        "colab": {
          "base_uri": "https://localhost:8080/"
        },
        "id": "SUNO_w-hc0Fx",
        "outputId": "0441e8be-2c98-4a94-ef63-8c28a4a2270c"
      },
      "source": [
        "a = maskmandate1['State.'].value_counts()\n",
        "u = a.index\n",
        "u"
      ],
      "execution_count": 147,
      "outputs": [
        {
          "output_type": "execute_result",
          "data": {
            "text/plain": [
              "Index(['IN', 'KY', 'WV', 'AR', 'VA', 'CA', 'WA', 'AL', 'MN', 'OH', 'WI', 'OR',\n",
              "       'TX', 'VT', 'NC', 'CO', 'LA', 'MT', 'NV'],\n",
              "      dtype='object')"
            ]
          },
          "metadata": {
            "tags": []
          },
          "execution_count": 147
        }
      ]
    },
    {
      "cell_type": "code",
      "metadata": {
        "id": "w4J8P3g_IFzA"
      },
      "source": [
        "import datetime\n",
        "from datetime import timedelta\n",
        "dftimed11['date'] = pd.to_datetime(dftimed11['date'], infer_datetime_format=True)\n",
        "s1 = []\n",
        "s2 = []\n",
        "s3 = []\n",
        "s4 = []\n",
        "s5 = []\n",
        "s21 = []\n",
        "s22 = []\n",
        "s23 = []\n",
        "s24 = []\n",
        "for x in u:\n",
        "  o = maskmandate1['State.'] == x\n",
        "  p = maskmandate1[o]\n",
        "  q = p['Requirement Date']\n",
        "  q = list(q)\n",
        "  q = q[0]\n",
        "  da0 = q - datetime.timedelta(30)\n",
        "  da1 = q - datetime.timedelta(1)\n",
        "  da3 = q - datetime.timedelta(60)\n",
        "  da4 = q - datetime.timedelta(90)\n",
        "  da41 = q + datetime.timedelta(1)\n",
        "  da5 = q + datetime.timedelta(30)\n",
        "  da6 = q - datetime.timedelta(120)\n",
        "  q = q - datetime.timedelta(0)\n",
        "  a = dftimed11['state'] == x\n",
        "  y = dftimed11[a]\n",
        "  pq = y['county'].value_counts()\n",
        "  pq = pq.index\n",
        "  for r in pq:\n",
        "    m = y['county'] == r\n",
        "    pi = y[m].sort_values(by='date')\n",
        "    pi.index = pi['date']\n",
        "    ffa = str(q)\n",
        "    ffa = ffa.split()\n",
        "    ffa = ffa[0]\n",
        "    pi['date'] = pd.to_datetime(pi['date'], infer_datetime_format=True)\n",
        "    if pi['date'][0] < da3:\n",
        "      uui = pi.loc[str(da0):str(da1)]\n",
        "      ui = np.mean(uui['casegrowth'])\n",
        "      s1.append(ui)\n",
        "      m = pi.loc[str(da41):str(da5)]\n",
        "      oi = np.mean(m['casegrowth'])\n",
        "      s2.append(oi)\n",
        "      s3.append(x)\n",
        "      s4.append(r)\n",
        "    if pi['date'][0] < da6:\n",
        "      uui = pi.loc[str(da4):str(da3)]\n",
        "      ui = np.mean(uui['casegrowth'])\n",
        "      s21.append(ui)\n",
        "      s22.append(x)\n",
        "      s23.append(r)\n",
        "    else:\n",
        "      j = 1\n"
      ],
      "execution_count": 148,
      "outputs": []
    },
    {
      "cell_type": "code",
      "metadata": {
        "colab": {
          "base_uri": "https://localhost:8080/"
        },
        "id": "eUl_j1vMbuL0",
        "outputId": "1adc3835-a40c-4194-cbe4-e65f72c54766"
      },
      "source": [
        "len(s21)"
      ],
      "execution_count": 149,
      "outputs": [
        {
          "output_type": "execute_result",
          "data": {
            "text/plain": [
              "306"
            ]
          },
          "metadata": {
            "tags": []
          },
          "execution_count": 149
        }
      ]
    },
    {
      "cell_type": "code",
      "metadata": {
        "id": "LgcHOAqMYH9e"
      },
      "source": [
        "d = {'Prepreemandate': []}\n",
        "df2 = pd.DataFrame(data=d)"
      ],
      "execution_count": 150,
      "outputs": []
    },
    {
      "cell_type": "code",
      "metadata": {
        "id": "-rh6JDKkbjyF"
      },
      "source": [
        "df2['Prepremandate'] = s21\n",
        "df2['state'] = s22\n",
        "df2['county'] = s23"
      ],
      "execution_count": 151,
      "outputs": []
    },
    {
      "cell_type": "code",
      "metadata": {
        "id": "8JwZwPCYNj5H"
      },
      "source": [
        "d = {'Premandate': [], 'postmandate': []}\n",
        "df1 = pd.DataFrame(data=d)\n"
      ],
      "execution_count": 152,
      "outputs": []
    },
    {
      "cell_type": "code",
      "metadata": {
        "id": "UI_XgQxfQ7Y6"
      },
      "source": [
        "df1['Premandate'] = s1\n",
        "df1['postmandate'] = s2\n",
        "df1['state'] = s3\n",
        "df1['county'] = s4"
      ],
      "execution_count": 153,
      "outputs": []
    },
    {
      "cell_type": "code",
      "metadata": {
        "colab": {
          "base_uri": "https://localhost:8080/",
          "height": 51
        },
        "id": "E2Q_OEwySMBF",
        "outputId": "bbd43c67-0b30-4c2d-b852-e9e9e2d4d214"
      },
      "source": [
        "\n",
        "x = np.var(df1['Premandate'])\n",
        "display(x)\n",
        "y = np.var(df1['postmandate'])\n",
        "y\n"
      ],
      "execution_count": 154,
      "outputs": [
        {
          "output_type": "display_data",
          "data": {
            "text/plain": [
              "3.44772589385251"
            ]
          },
          "metadata": {
            "tags": []
          }
        },
        {
          "output_type": "execute_result",
          "data": {
            "text/plain": [
              "2.3582946327380805"
            ]
          },
          "metadata": {
            "tags": []
          },
          "execution_count": 154
        }
      ]
    },
    {
      "cell_type": "code",
      "metadata": {
        "colab": {
          "base_uri": "https://localhost:8080/"
        },
        "id": "1_t-_nv0U73m",
        "outputId": "f0afab7f-5b37-4d0e-9314-0b8df28fe899"
      },
      "source": [
        "import scipy\n",
        "from scipy import stats\n",
        "\n",
        "scipy.stats.ttest_ind(df1['Premandate'], df1['postmandate'], equal_var=False)"
      ],
      "execution_count": 155,
      "outputs": [
        {
          "output_type": "execute_result",
          "data": {
            "text/plain": [
              "Ttest_indResult(statistic=3.2835494445909834, pvalue=0.0010388193938908412)"
            ]
          },
          "metadata": {
            "tags": []
          },
          "execution_count": 155
        }
      ]
    },
    {
      "cell_type": "code",
      "metadata": {
        "id": "R2VfXMDCoMWT",
        "colab": {
          "base_uri": "https://localhost:8080/",
          "height": 68
        },
        "outputId": "c04b366d-c586-4758-8f8a-8f534c768ca6"
      },
      "source": [
        "display(np.mean(df2['Prepremandate']))\n",
        "display(np.mean(df1['Premandate']))\n",
        "display(np.mean(df1['postmandate']))\n"
      ],
      "execution_count": 156,
      "outputs": [
        {
          "output_type": "display_data",
          "data": {
            "text/plain": [
              "3.003098878109821"
            ]
          },
          "metadata": {
            "tags": []
          }
        },
        {
          "output_type": "display_data",
          "data": {
            "text/plain": [
              "2.6106393975784132"
            ]
          },
          "metadata": {
            "tags": []
          }
        },
        {
          "output_type": "display_data",
          "data": {
            "text/plain": [
              "2.3937722256218144"
            ]
          },
          "metadata": {
            "tags": []
          }
        }
      ]
    },
    {
      "cell_type": "code",
      "metadata": {
        "colab": {
          "base_uri": "https://localhost:8080/"
        },
        "id": "wp_xnwAHb_gK",
        "outputId": "17cd0896-e9c0-489b-db6d-3e6eedb61403"
      },
      "source": [
        "scipy.stats.ttest_ind(df2['Prepremandate'], df1['Premandate'], equal_var=False)"
      ],
      "execution_count": 157,
      "outputs": [
        {
          "output_type": "execute_result",
          "data": {
            "text/plain": [
              "Ttest_indResult(statistic=2.8491107085021086, pvalue=0.0046068994928157355)"
            ]
          },
          "metadata": {
            "tags": []
          },
          "execution_count": 157
        }
      ]
    },
    {
      "cell_type": "code",
      "metadata": {
        "id": "ySiWZ6UYuFFI"
      },
      "source": [
        "import matplotlib.pyplot as plt\n",
        "\n"
      ],
      "execution_count": 158,
      "outputs": []
    },
    {
      "cell_type": "code",
      "metadata": {
        "colab": {
          "base_uri": "https://localhost:8080/",
          "height": 265
        },
        "id": "kyBqFYDHu-oC",
        "outputId": "2bae23cf-4123-499b-df04-3815bdcdf5d7"
      },
      "source": [
        "plt.hist(dftest['ALWAYS'])\n",
        "a = dftest['ALWAYS'] >= .7\n",
        "b = dftest[a]\n",
        "\n",
        "x = dftest['ALWAYS'] <= .3\n",
        "y = dftest[x]"
      ],
      "execution_count": 159,
      "outputs": [
        {
          "output_type": "display_data",
          "data": {
            "image/png": "[encoded data removed]",
            "text/plain": [
              "<Figure size 432x288 with 1 Axes>"
            ]
          },
          "metadata": {
            "tags": [],
            "needs_background": "light"
          }
        }
      ]
    },
    {
      "cell_type": "code",
      "metadata": {
        "id": "DR8JqNBUwnhW"
      },
      "source": [
        "c = b['fips']\n",
        "d = c.value_counts()\n",
        "e = d.index\n",
        "\n",
        "z = y['fips']\n",
        "x = z.value_counts()\n",
        "w = x.index"
      ],
      "execution_count": 160,
      "outputs": []
    },
    {
      "cell_type": "code",
      "metadata": {
        "colab": {
          "base_uri": "https://localhost:8080/",
          "height": 626
        },
        "id": "ggGT090I0v6q",
        "outputId": "0f1f907e-5910-4387-d625-9cd8dd3d659b"
      },
      "source": [
        "y"
      ],
      "execution_count": 161,
      "outputs": [
        {
          "output_type": "execute_result",
          "data": {
            "text/html": [
              "<div>\n",
              "<style scoped>\n",
              "    .dataframe tbody tr th:only-of-type {\n",
              "        vertical-align: middle;\n",
              "    }\n",
              "\n",
              "    .dataframe tbody tr th {\n",
              "        vertical-align: top;\n",
              "    }\n",
              "\n",
              "    .dataframe thead th {\n",
              "        text-align: right;\n",
              "    }\n",
              "</style>\n",
              "<table border=\"1\" class=\"dataframe\">\n",
              "  <thead>\n",
              "    <tr style=\"text-align: right;\">\n",
              "      <th></th>\n",
              "      <th>Unnamed: 0</th>\n",
              "      <th>Unnamed: 0.1</th>\n",
              "      <th>CTYNAME</th>\n",
              "      <th>STCOU</th>\n",
              "      <th>Landarea</th>\n",
              "      <th>POPESTIMATE2019</th>\n",
              "      <th>Unnamed: 0.1.1</th>\n",
              "      <th>POPESTIMATE</th>\n",
              "      <th>POPEST_MALE</th>\n",
              "      <th>POPEST_FEM</th>\n",
              "      <th>UNDER5_TOT</th>\n",
              "      <th>UNDER5_MALE</th>\n",
              "      <th>UNDER5_FEM</th>\n",
              "      <th>AGE513_TOT</th>\n",
              "      <th>AGE513_MALE</th>\n",
              "      <th>AGE513_FEM</th>\n",
              "      <th>AGE1417_TOT</th>\n",
              "      <th>AGE1417_MALE</th>\n",
              "      <th>AGE1417_FEM</th>\n",
              "      <th>AGE1824_TOT</th>\n",
              "      <th>AGE1824_MALE</th>\n",
              "      <th>AGE1824_FEM</th>\n",
              "      <th>AGE16PLUS_TOT</th>\n",
              "      <th>AGE16PLUS_MALE</th>\n",
              "      <th>AGE16PLUS_FEM</th>\n",
              "      <th>AGE18PLUS_TOT</th>\n",
              "      <th>AGE18PLUS_MALE</th>\n",
              "      <th>AGE18PLUS_FEM</th>\n",
              "      <th>AGE1544_TOT</th>\n",
              "      <th>AGE1544_MALE</th>\n",
              "      <th>AGE1544_FEM</th>\n",
              "      <th>AGE2544_TOT</th>\n",
              "      <th>AGE2544_MALE</th>\n",
              "      <th>AGE2544_FEM</th>\n",
              "      <th>AGE4564_TOT</th>\n",
              "      <th>AGE4564_MALE</th>\n",
              "      <th>AGE4564_FEM</th>\n",
              "      <th>AGE65PLUS_TOT</th>\n",
              "      <th>AGE65PLUS_MALE</th>\n",
              "      <th>AGE65PLUS_FEM</th>\n",
              "      <th>...</th>\n",
              "      <th>AGE6064_TOT</th>\n",
              "      <th>AGE6064_MALE</th>\n",
              "      <th>AGE6064_FEM</th>\n",
              "      <th>AGE6569_TOT</th>\n",
              "      <th>AGE6569_MALE</th>\n",
              "      <th>AGE6569_FEM</th>\n",
              "      <th>AGE7074_TOT</th>\n",
              "      <th>AGE7074_MALE</th>\n",
              "      <th>AGE7074_FEM</th>\n",
              "      <th>AGE7579_TOT</th>\n",
              "      <th>AGE7579_MALE</th>\n",
              "      <th>AGE7579_FEM</th>\n",
              "      <th>AGE8084_TOT</th>\n",
              "      <th>AGE8084_MALE</th>\n",
              "      <th>AGE8084_FEM</th>\n",
              "      <th>AGE85PLUS_TOT</th>\n",
              "      <th>AGE85PLUS_MALE</th>\n",
              "      <th>AGE85PLUS_FEM</th>\n",
              "      <th>MEDIAN_AGE_TOT</th>\n",
              "      <th>MEDIAN_AGE_MALE</th>\n",
              "      <th>MEDIAN_AGE_FEM</th>\n",
              "      <th>COUNTYFP</th>\n",
              "      <th>Unnamed: 0.1.1.1</th>\n",
              "      <th>NEVER</th>\n",
              "      <th>RARELY</th>\n",
              "      <th>SOMETIMES</th>\n",
              "      <th>FREQUENTLY</th>\n",
              "      <th>ALWAYS</th>\n",
              "      <th>date_y</th>\n",
              "      <th>county</th>\n",
              "      <th>state_y</th>\n",
              "      <th>fips</th>\n",
              "      <th>cases</th>\n",
              "      <th>deaths</th>\n",
              "      <th>confirmed_cases</th>\n",
              "      <th>confirmed_deaths</th>\n",
              "      <th>probable_cases</th>\n",
              "      <th>probable_deaths</th>\n",
              "      <th>_merge</th>\n",
              "      <th>popdensity</th>\n",
              "    </tr>\n",
              "  </thead>\n",
              "  <tbody>\n",
              "    <tr>\n",
              "      <th>9</th>\n",
              "      <td>2245.0</td>\n",
              "      <td>2244.0</td>\n",
              "      <td>Adams, IA</td>\n",
              "      <td>NaN</td>\n",
              "      <td>424.95</td>\n",
              "      <td>3602.0</td>\n",
              "      <td>2244.0</td>\n",
              "      <td>3602.0</td>\n",
              "      <td>1799.0</td>\n",
              "      <td>1803.0</td>\n",
              "      <td>191.0</td>\n",
              "      <td>103.0</td>\n",
              "      <td>88.0</td>\n",
              "      <td>406.0</td>\n",
              "      <td>200.0</td>\n",
              "      <td>206.0</td>\n",
              "      <td>157.0</td>\n",
              "      <td>75.0</td>\n",
              "      <td>82.0</td>\n",
              "      <td>221.0</td>\n",
              "      <td>120.0</td>\n",
              "      <td>101.0</td>\n",
              "      <td>2928.0</td>\n",
              "      <td>1461.0</td>\n",
              "      <td>1467.0</td>\n",
              "      <td>2848.0</td>\n",
              "      <td>1421.0</td>\n",
              "      <td>1427.0</td>\n",
              "      <td>1099.0</td>\n",
              "      <td>568.0</td>\n",
              "      <td>531.0</td>\n",
              "      <td>759.0</td>\n",
              "      <td>386.0</td>\n",
              "      <td>373.0</td>\n",
              "      <td>1016.0</td>\n",
              "      <td>511.0</td>\n",
              "      <td>505.0</td>\n",
              "      <td>852.0</td>\n",
              "      <td>404.0</td>\n",
              "      <td>448.0</td>\n",
              "      <td>...</td>\n",
              "      <td>309.0</td>\n",
              "      <td>159.0</td>\n",
              "      <td>150.0</td>\n",
              "      <td>232.0</td>\n",
              "      <td>126.0</td>\n",
              "      <td>106.0</td>\n",
              "      <td>228.0</td>\n",
              "      <td>115.0</td>\n",
              "      <td>113.0</td>\n",
              "      <td>171.0</td>\n",
              "      <td>84.0</td>\n",
              "      <td>87.0</td>\n",
              "      <td>112.0</td>\n",
              "      <td>50.0</td>\n",
              "      <td>62.0</td>\n",
              "      <td>109.0</td>\n",
              "      <td>29.0</td>\n",
              "      <td>80.0</td>\n",
              "      <td>47.0</td>\n",
              "      <td>46.0</td>\n",
              "      <td>48.5</td>\n",
              "      <td>19003.0</td>\n",
              "      <td>789.0</td>\n",
              "      <td>0.148</td>\n",
              "      <td>0.110</td>\n",
              "      <td>0.150</td>\n",
              "      <td>0.311</td>\n",
              "      <td>0.281</td>\n",
              "      <td>2021-01-10</td>\n",
              "      <td>Adams</td>\n",
              "      <td>IA</td>\n",
              "      <td>19003.0</td>\n",
              "      <td>288.0</td>\n",
              "      <td>3.0</td>\n",
              "      <td>288.0</td>\n",
              "      <td>NaN</td>\n",
              "      <td>NaN</td>\n",
              "      <td>NaN</td>\n",
              "      <td>both</td>\n",
              "      <td>8.476291</td>\n",
              "    </tr>\n",
              "    <tr>\n",
              "      <th>10</th>\n",
              "      <td>2538.0</td>\n",
              "      <td>2537.0</td>\n",
              "      <td>Adams, ID</td>\n",
              "      <td>NaN</td>\n",
              "      <td>1361.86</td>\n",
              "      <td>4294.0</td>\n",
              "      <td>2537.0</td>\n",
              "      <td>4294.0</td>\n",
              "      <td>2207.0</td>\n",
              "      <td>2087.0</td>\n",
              "      <td>169.0</td>\n",
              "      <td>78.0</td>\n",
              "      <td>91.0</td>\n",
              "      <td>382.0</td>\n",
              "      <td>216.0</td>\n",
              "      <td>166.0</td>\n",
              "      <td>194.0</td>\n",
              "      <td>99.0</td>\n",
              "      <td>95.0</td>\n",
              "      <td>187.0</td>\n",
              "      <td>96.0</td>\n",
              "      <td>91.0</td>\n",
              "      <td>3644.0</td>\n",
              "      <td>1860.0</td>\n",
              "      <td>1784.0</td>\n",
              "      <td>3549.0</td>\n",
              "      <td>1814.0</td>\n",
              "      <td>1735.0</td>\n",
              "      <td>1074.0</td>\n",
              "      <td>547.0</td>\n",
              "      <td>527.0</td>\n",
              "      <td>745.0</td>\n",
              "      <td>382.0</td>\n",
              "      <td>363.0</td>\n",
              "      <td>1333.0</td>\n",
              "      <td>650.0</td>\n",
              "      <td>683.0</td>\n",
              "      <td>1284.0</td>\n",
              "      <td>686.0</td>\n",
              "      <td>598.0</td>\n",
              "      <td>...</td>\n",
              "      <td>521.0</td>\n",
              "      <td>255.0</td>\n",
              "      <td>266.0</td>\n",
              "      <td>478.0</td>\n",
              "      <td>253.0</td>\n",
              "      <td>225.0</td>\n",
              "      <td>337.0</td>\n",
              "      <td>197.0</td>\n",
              "      <td>140.0</td>\n",
              "      <td>228.0</td>\n",
              "      <td>120.0</td>\n",
              "      <td>108.0</td>\n",
              "      <td>136.0</td>\n",
              "      <td>74.0</td>\n",
              "      <td>62.0</td>\n",
              "      <td>105.0</td>\n",
              "      <td>42.0</td>\n",
              "      <td>63.0</td>\n",
              "      <td>55.5</td>\n",
              "      <td>55.3</td>\n",
              "      <td>55.9</td>\n",
              "      <td>16003.0</td>\n",
              "      <td>551.0</td>\n",
              "      <td>0.094</td>\n",
              "      <td>0.216</td>\n",
              "      <td>0.218</td>\n",
              "      <td>0.218</td>\n",
              "      <td>0.254</td>\n",
              "      <td>2021-01-10</td>\n",
              "      <td>Adams</td>\n",
              "      <td>ID</td>\n",
              "      <td>16003.0</td>\n",
              "      <td>287.0</td>\n",
              "      <td>3.0</td>\n",
              "      <td>219.0</td>\n",
              "      <td>NaN</td>\n",
              "      <td>68.0</td>\n",
              "      <td>NaN</td>\n",
              "      <td>both</td>\n",
              "      <td>3.153041</td>\n",
              "    </tr>\n",
              "    <tr>\n",
              "      <th>14</th>\n",
              "      <td>1098.0</td>\n",
              "      <td>1097.0</td>\n",
              "      <td>Adams, ND</td>\n",
              "      <td>NaN</td>\n",
              "      <td>988.22</td>\n",
              "      <td>2216.0</td>\n",
              "      <td>1097.0</td>\n",
              "      <td>2216.0</td>\n",
              "      <td>1098.0</td>\n",
              "      <td>1118.0</td>\n",
              "      <td>118.0</td>\n",
              "      <td>59.0</td>\n",
              "      <td>59.0</td>\n",
              "      <td>214.0</td>\n",
              "      <td>108.0</td>\n",
              "      <td>106.0</td>\n",
              "      <td>95.0</td>\n",
              "      <td>53.0</td>\n",
              "      <td>42.0</td>\n",
              "      <td>129.0</td>\n",
              "      <td>69.0</td>\n",
              "      <td>60.0</td>\n",
              "      <td>1839.0</td>\n",
              "      <td>901.0</td>\n",
              "      <td>938.0</td>\n",
              "      <td>1789.0</td>\n",
              "      <td>878.0</td>\n",
              "      <td>911.0</td>\n",
              "      <td>640.0</td>\n",
              "      <td>338.0</td>\n",
              "      <td>302.0</td>\n",
              "      <td>439.0</td>\n",
              "      <td>231.0</td>\n",
              "      <td>208.0</td>\n",
              "      <td>589.0</td>\n",
              "      <td>287.0</td>\n",
              "      <td>302.0</td>\n",
              "      <td>632.0</td>\n",
              "      <td>291.0</td>\n",
              "      <td>341.0</td>\n",
              "      <td>...</td>\n",
              "      <td>194.0</td>\n",
              "      <td>99.0</td>\n",
              "      <td>95.0</td>\n",
              "      <td>176.0</td>\n",
              "      <td>88.0</td>\n",
              "      <td>88.0</td>\n",
              "      <td>142.0</td>\n",
              "      <td>70.0</td>\n",
              "      <td>72.0</td>\n",
              "      <td>103.0</td>\n",
              "      <td>50.0</td>\n",
              "      <td>53.0</td>\n",
              "      <td>97.0</td>\n",
              "      <td>48.0</td>\n",
              "      <td>49.0</td>\n",
              "      <td>114.0</td>\n",
              "      <td>35.0</td>\n",
              "      <td>79.0</td>\n",
              "      <td>50.4</td>\n",
              "      <td>48.5</td>\n",
              "      <td>52.4</td>\n",
              "      <td>38001.0</td>\n",
              "      <td>1986.0</td>\n",
              "      <td>0.219</td>\n",
              "      <td>0.166</td>\n",
              "      <td>0.189</td>\n",
              "      <td>0.233</td>\n",
              "      <td>0.193</td>\n",
              "      <td>2021-01-10</td>\n",
              "      <td>Adams</td>\n",
              "      <td>ND</td>\n",
              "      <td>38001.0</td>\n",
              "      <td>209.0</td>\n",
              "      <td>2.0</td>\n",
              "      <td>209.0</td>\n",
              "      <td>NaN</td>\n",
              "      <td>0.0</td>\n",
              "      <td>NaN</td>\n",
              "      <td>both</td>\n",
              "      <td>2.242416</td>\n",
              "    </tr>\n",
              "    <tr>\n",
              "      <th>19</th>\n",
              "      <td>24.0</td>\n",
              "      <td>23.0</td>\n",
              "      <td>Adams, WI</td>\n",
              "      <td>NaN</td>\n",
              "      <td>648.00</td>\n",
              "      <td>20220.0</td>\n",
              "      <td>23.0</td>\n",
              "      <td>20220.0</td>\n",
              "      <td>10760.0</td>\n",
              "      <td>9460.0</td>\n",
              "      <td>678.0</td>\n",
              "      <td>369.0</td>\n",
              "      <td>309.0</td>\n",
              "      <td>1445.0</td>\n",
              "      <td>725.0</td>\n",
              "      <td>720.0</td>\n",
              "      <td>725.0</td>\n",
              "      <td>354.0</td>\n",
              "      <td>371.0</td>\n",
              "      <td>1097.0</td>\n",
              "      <td>624.0</td>\n",
              "      <td>473.0</td>\n",
              "      <td>17707.0</td>\n",
              "      <td>9487.0</td>\n",
              "      <td>8220.0</td>\n",
              "      <td>17372.0</td>\n",
              "      <td>9312.0</td>\n",
              "      <td>8060.0</td>\n",
              "      <td>5474.0</td>\n",
              "      <td>3205.0</td>\n",
              "      <td>2269.0</td>\n",
              "      <td>3836.0</td>\n",
              "      <td>2313.0</td>\n",
              "      <td>1523.0</td>\n",
              "      <td>6341.0</td>\n",
              "      <td>3303.0</td>\n",
              "      <td>3038.0</td>\n",
              "      <td>6098.0</td>\n",
              "      <td>3072.0</td>\n",
              "      <td>3026.0</td>\n",
              "      <td>...</td>\n",
              "      <td>2073.0</td>\n",
              "      <td>1081.0</td>\n",
              "      <td>992.0</td>\n",
              "      <td>1986.0</td>\n",
              "      <td>996.0</td>\n",
              "      <td>990.0</td>\n",
              "      <td>1624.0</td>\n",
              "      <td>851.0</td>\n",
              "      <td>773.0</td>\n",
              "      <td>1230.0</td>\n",
              "      <td>628.0</td>\n",
              "      <td>602.0</td>\n",
              "      <td>735.0</td>\n",
              "      <td>373.0</td>\n",
              "      <td>362.0</td>\n",
              "      <td>523.0</td>\n",
              "      <td>224.0</td>\n",
              "      <td>299.0</td>\n",
              "      <td>54.8</td>\n",
              "      <td>53.2</td>\n",
              "      <td>56.3</td>\n",
              "      <td>55001.0</td>\n",
              "      <td>3049.0</td>\n",
              "      <td>0.163</td>\n",
              "      <td>0.189</td>\n",
              "      <td>0.227</td>\n",
              "      <td>0.213</td>\n",
              "      <td>0.208</td>\n",
              "      <td>2021-01-10</td>\n",
              "      <td>Adams</td>\n",
              "      <td>WI</td>\n",
              "      <td>55001.0</td>\n",
              "      <td>1521.0</td>\n",
              "      <td>13.0</td>\n",
              "      <td>1376.0</td>\n",
              "      <td>11.0</td>\n",
              "      <td>145.0</td>\n",
              "      <td>2.0</td>\n",
              "      <td>both</td>\n",
              "      <td>31.203704</td>\n",
              "    </tr>\n",
              "    <tr>\n",
              "      <th>37</th>\n",
              "      <td>934.0</td>\n",
              "      <td>933.0</td>\n",
              "      <td>Alfalfa, OK</td>\n",
              "      <td>NaN</td>\n",
              "      <td>864.18</td>\n",
              "      <td>5702.0</td>\n",
              "      <td>933.0</td>\n",
              "      <td>5702.0</td>\n",
              "      <td>3403.0</td>\n",
              "      <td>2299.0</td>\n",
              "      <td>270.0</td>\n",
              "      <td>154.0</td>\n",
              "      <td>116.0</td>\n",
              "      <td>590.0</td>\n",
              "      <td>307.0</td>\n",
              "      <td>283.0</td>\n",
              "      <td>245.0</td>\n",
              "      <td>131.0</td>\n",
              "      <td>114.0</td>\n",
              "      <td>317.0</td>\n",
              "      <td>162.0</td>\n",
              "      <td>155.0</td>\n",
              "      <td>4718.0</td>\n",
              "      <td>2878.0</td>\n",
              "      <td>1840.0</td>\n",
              "      <td>4597.0</td>\n",
              "      <td>2811.0</td>\n",
              "      <td>1786.0</td>\n",
              "      <td>2019.0</td>\n",
              "      <td>1297.0</td>\n",
              "      <td>722.0</td>\n",
              "      <td>1521.0</td>\n",
              "      <td>1036.0</td>\n",
              "      <td>485.0</td>\n",
              "      <td>1604.0</td>\n",
              "      <td>1041.0</td>\n",
              "      <td>563.0</td>\n",
              "      <td>1155.0</td>\n",
              "      <td>572.0</td>\n",
              "      <td>583.0</td>\n",
              "      <td>...</td>\n",
              "      <td>386.0</td>\n",
              "      <td>224.0</td>\n",
              "      <td>162.0</td>\n",
              "      <td>363.0</td>\n",
              "      <td>210.0</td>\n",
              "      <td>153.0</td>\n",
              "      <td>231.0</td>\n",
              "      <td>119.0</td>\n",
              "      <td>112.0</td>\n",
              "      <td>221.0</td>\n",
              "      <td>98.0</td>\n",
              "      <td>123.0</td>\n",
              "      <td>170.0</td>\n",
              "      <td>77.0</td>\n",
              "      <td>93.0</td>\n",
              "      <td>170.0</td>\n",
              "      <td>68.0</td>\n",
              "      <td>102.0</td>\n",
              "      <td>43.9</td>\n",
              "      <td>43.5</td>\n",
              "      <td>44.9</td>\n",
              "      <td>40003.0</td>\n",
              "      <td>2128.0</td>\n",
              "      <td>0.203</td>\n",
              "      <td>0.096</td>\n",
              "      <td>0.188</td>\n",
              "      <td>0.250</td>\n",
              "      <td>0.262</td>\n",
              "      <td>2021-01-10</td>\n",
              "      <td>Alfalfa</td>\n",
              "      <td>OK</td>\n",
              "      <td>40003.0</td>\n",
              "      <td>986.0</td>\n",
              "      <td>5.0</td>\n",
              "      <td>NaN</td>\n",
              "      <td>5.0</td>\n",
              "      <td>NaN</td>\n",
              "      <td>NaN</td>\n",
              "      <td>both</td>\n",
              "      <td>6.598162</td>\n",
              "    </tr>\n",
              "    <tr>\n",
              "      <th>...</th>\n",
              "      <td>...</td>\n",
              "      <td>...</td>\n",
              "      <td>...</td>\n",
              "      <td>...</td>\n",
              "      <td>...</td>\n",
              "      <td>...</td>\n",
              "      <td>...</td>\n",
              "      <td>...</td>\n",
              "      <td>...</td>\n",
              "      <td>...</td>\n",
              "      <td>...</td>\n",
              "      <td>...</td>\n",
              "      <td>...</td>\n",
              "      <td>...</td>\n",
              "      <td>...</td>\n",
              "      <td>...</td>\n",
              "      <td>...</td>\n",
              "      <td>...</td>\n",
              "      <td>...</td>\n",
              "      <td>...</td>\n",
              "      <td>...</td>\n",
              "      <td>...</td>\n",
              "      <td>...</td>\n",
              "      <td>...</td>\n",
              "      <td>...</td>\n",
              "      <td>...</td>\n",
              "      <td>...</td>\n",
              "      <td>...</td>\n",
              "      <td>...</td>\n",
              "      <td>...</td>\n",
              "      <td>...</td>\n",
              "      <td>...</td>\n",
              "      <td>...</td>\n",
              "      <td>...</td>\n",
              "      <td>...</td>\n",
              "      <td>...</td>\n",
              "      <td>...</td>\n",
              "      <td>...</td>\n",
              "      <td>...</td>\n",
              "      <td>...</td>\n",
              "      <td>...</td>\n",
              "      <td>...</td>\n",
              "      <td>...</td>\n",
              "      <td>...</td>\n",
              "      <td>...</td>\n",
              "      <td>...</td>\n",
              "      <td>...</td>\n",
              "      <td>...</td>\n",
              "      <td>...</td>\n",
              "      <td>...</td>\n",
              "      <td>...</td>\n",
              "      <td>...</td>\n",
              "      <td>...</td>\n",
              "      <td>...</td>\n",
              "      <td>...</td>\n",
              "      <td>...</td>\n",
              "      <td>...</td>\n",
              "      <td>...</td>\n",
              "      <td>...</td>\n",
              "      <td>...</td>\n",
              "      <td>...</td>\n",
              "      <td>...</td>\n",
              "      <td>...</td>\n",
              "      <td>...</td>\n",
              "      <td>...</td>\n",
              "      <td>...</td>\n",
              "      <td>...</td>\n",
              "      <td>...</td>\n",
              "      <td>...</td>\n",
              "      <td>...</td>\n",
              "      <td>...</td>\n",
              "      <td>...</td>\n",
              "      <td>...</td>\n",
              "      <td>...</td>\n",
              "      <td>...</td>\n",
              "      <td>...</td>\n",
              "      <td>...</td>\n",
              "      <td>...</td>\n",
              "      <td>...</td>\n",
              "      <td>...</td>\n",
              "      <td>...</td>\n",
              "    </tr>\n",
              "    <tr>\n",
              "      <th>3106</th>\n",
              "      <td>1649.0</td>\n",
              "      <td>1648.0</td>\n",
              "      <td>Wright, MO</td>\n",
              "      <td>NaN</td>\n",
              "      <td>682.30</td>\n",
              "      <td>18289.0</td>\n",
              "      <td>1648.0</td>\n",
              "      <td>18289.0</td>\n",
              "      <td>8970.0</td>\n",
              "      <td>9319.0</td>\n",
              "      <td>1323.0</td>\n",
              "      <td>711.0</td>\n",
              "      <td>612.0</td>\n",
              "      <td>2248.0</td>\n",
              "      <td>1149.0</td>\n",
              "      <td>1099.0</td>\n",
              "      <td>1132.0</td>\n",
              "      <td>536.0</td>\n",
              "      <td>596.0</td>\n",
              "      <td>1332.0</td>\n",
              "      <td>685.0</td>\n",
              "      <td>647.0</td>\n",
              "      <td>14131.0</td>\n",
              "      <td>6836.0</td>\n",
              "      <td>7295.0</td>\n",
              "      <td>13586.0</td>\n",
              "      <td>6574.0</td>\n",
              "      <td>7012.0</td>\n",
              "      <td>6132.0</td>\n",
              "      <td>3067.0</td>\n",
              "      <td>3065.0</td>\n",
              "      <td>3960.0</td>\n",
              "      <td>1975.0</td>\n",
              "      <td>1985.0</td>\n",
              "      <td>4707.0</td>\n",
              "      <td>2308.0</td>\n",
              "      <td>2399.0</td>\n",
              "      <td>3587.0</td>\n",
              "      <td>1606.0</td>\n",
              "      <td>1981.0</td>\n",
              "      <td>...</td>\n",
              "      <td>1302.0</td>\n",
              "      <td>653.0</td>\n",
              "      <td>649.0</td>\n",
              "      <td>1105.0</td>\n",
              "      <td>526.0</td>\n",
              "      <td>579.0</td>\n",
              "      <td>901.0</td>\n",
              "      <td>417.0</td>\n",
              "      <td>484.0</td>\n",
              "      <td>708.0</td>\n",
              "      <td>313.0</td>\n",
              "      <td>395.0</td>\n",
              "      <td>440.0</td>\n",
              "      <td>210.0</td>\n",
              "      <td>230.0</td>\n",
              "      <td>433.0</td>\n",
              "      <td>140.0</td>\n",
              "      <td>293.0</td>\n",
              "      <td>40.5</td>\n",
              "      <td>38.9</td>\n",
              "      <td>42.0</td>\n",
              "      <td>29229.0</td>\n",
              "      <td>1595.0</td>\n",
              "      <td>0.419</td>\n",
              "      <td>0.139</td>\n",
              "      <td>0.187</td>\n",
              "      <td>0.100</td>\n",
              "      <td>0.155</td>\n",
              "      <td>2021-01-10</td>\n",
              "      <td>Wright</td>\n",
              "      <td>MO</td>\n",
              "      <td>29229.0</td>\n",
              "      <td>1196.0</td>\n",
              "      <td>24.0</td>\n",
              "      <td>1196.0</td>\n",
              "      <td>24.0</td>\n",
              "      <td>NaN</td>\n",
              "      <td>NaN</td>\n",
              "      <td>both</td>\n",
              "      <td>26.804925</td>\n",
              "    </tr>\n",
              "    <tr>\n",
              "      <th>3118</th>\n",
              "      <td>777.0</td>\n",
              "      <td>776.0</td>\n",
              "      <td>Yankton, SD</td>\n",
              "      <td>NaN</td>\n",
              "      <td>517.74</td>\n",
              "      <td>22814.0</td>\n",
              "      <td>776.0</td>\n",
              "      <td>22814.0</td>\n",
              "      <td>11882.0</td>\n",
              "      <td>10932.0</td>\n",
              "      <td>1344.0</td>\n",
              "      <td>680.0</td>\n",
              "      <td>664.0</td>\n",
              "      <td>2365.0</td>\n",
              "      <td>1196.0</td>\n",
              "      <td>1169.0</td>\n",
              "      <td>1093.0</td>\n",
              "      <td>542.0</td>\n",
              "      <td>551.0</td>\n",
              "      <td>2004.0</td>\n",
              "      <td>1042.0</td>\n",
              "      <td>962.0</td>\n",
              "      <td>18550.0</td>\n",
              "      <td>9720.0</td>\n",
              "      <td>8830.0</td>\n",
              "      <td>18012.0</td>\n",
              "      <td>9464.0</td>\n",
              "      <td>8548.0</td>\n",
              "      <td>8403.0</td>\n",
              "      <td>4728.0</td>\n",
              "      <td>3675.0</td>\n",
              "      <td>5581.0</td>\n",
              "      <td>3279.0</td>\n",
              "      <td>2302.0</td>\n",
              "      <td>5983.0</td>\n",
              "      <td>3168.0</td>\n",
              "      <td>2815.0</td>\n",
              "      <td>4444.0</td>\n",
              "      <td>1975.0</td>\n",
              "      <td>2469.0</td>\n",
              "      <td>...</td>\n",
              "      <td>1642.0</td>\n",
              "      <td>836.0</td>\n",
              "      <td>806.0</td>\n",
              "      <td>1410.0</td>\n",
              "      <td>704.0</td>\n",
              "      <td>706.0</td>\n",
              "      <td>1015.0</td>\n",
              "      <td>477.0</td>\n",
              "      <td>538.0</td>\n",
              "      <td>750.0</td>\n",
              "      <td>346.0</td>\n",
              "      <td>404.0</td>\n",
              "      <td>540.0</td>\n",
              "      <td>209.0</td>\n",
              "      <td>331.0</td>\n",
              "      <td>729.0</td>\n",
              "      <td>239.0</td>\n",
              "      <td>490.0</td>\n",
              "      <td>41.2</td>\n",
              "      <td>39.7</td>\n",
              "      <td>43.4</td>\n",
              "      <td>46135.0</td>\n",
              "      <td>2421.0</td>\n",
              "      <td>0.109</td>\n",
              "      <td>0.205</td>\n",
              "      <td>0.167</td>\n",
              "      <td>0.260</td>\n",
              "      <td>0.259</td>\n",
              "      <td>2021-01-10</td>\n",
              "      <td>Yankton</td>\n",
              "      <td>SD</td>\n",
              "      <td>46135.0</td>\n",
              "      <td>2591.0</td>\n",
              "      <td>27.0</td>\n",
              "      <td>2492.0</td>\n",
              "      <td>NaN</td>\n",
              "      <td>99.0</td>\n",
              "      <td>NaN</td>\n",
              "      <td>both</td>\n",
              "      <td>44.064588</td>\n",
              "    </tr>\n",
              "    <tr>\n",
              "      <th>3124</th>\n",
              "      <td>1534.0</td>\n",
              "      <td>1533.0</td>\n",
              "      <td>Yellowstone, MT</td>\n",
              "      <td>NaN</td>\n",
              "      <td>2624.10</td>\n",
              "      <td>161300.0</td>\n",
              "      <td>1533.0</td>\n",
              "      <td>161300.0</td>\n",
              "      <td>79402.0</td>\n",
              "      <td>81898.0</td>\n",
              "      <td>9847.0</td>\n",
              "      <td>5110.0</td>\n",
              "      <td>4737.0</td>\n",
              "      <td>19423.0</td>\n",
              "      <td>9876.0</td>\n",
              "      <td>9547.0</td>\n",
              "      <td>8308.0</td>\n",
              "      <td>4145.0</td>\n",
              "      <td>4163.0</td>\n",
              "      <td>12623.0</td>\n",
              "      <td>6406.0</td>\n",
              "      <td>6217.0</td>\n",
              "      <td>127729.0</td>\n",
              "      <td>62248.0</td>\n",
              "      <td>65481.0</td>\n",
              "      <td>123722.0</td>\n",
              "      <td>60271.0</td>\n",
              "      <td>63451.0</td>\n",
              "      <td>62047.0</td>\n",
              "      <td>31183.0</td>\n",
              "      <td>30864.0</td>\n",
              "      <td>43238.0</td>\n",
              "      <td>21702.0</td>\n",
              "      <td>21536.0</td>\n",
              "      <td>39776.0</td>\n",
              "      <td>19484.0</td>\n",
              "      <td>20292.0</td>\n",
              "      <td>28085.0</td>\n",
              "      <td>12679.0</td>\n",
              "      <td>15406.0</td>\n",
              "      <td>...</td>\n",
              "      <td>10758.0</td>\n",
              "      <td>5166.0</td>\n",
              "      <td>5592.0</td>\n",
              "      <td>9084.0</td>\n",
              "      <td>4351.0</td>\n",
              "      <td>4733.0</td>\n",
              "      <td>7230.0</td>\n",
              "      <td>3417.0</td>\n",
              "      <td>3813.0</td>\n",
              "      <td>4906.0</td>\n",
              "      <td>2278.0</td>\n",
              "      <td>2628.0</td>\n",
              "      <td>3188.0</td>\n",
              "      <td>1352.0</td>\n",
              "      <td>1836.0</td>\n",
              "      <td>3677.0</td>\n",
              "      <td>1281.0</td>\n",
              "      <td>2396.0</td>\n",
              "      <td>38.6</td>\n",
              "      <td>37.5</td>\n",
              "      <td>39.6</td>\n",
              "      <td>30111.0</td>\n",
              "      <td>1651.0</td>\n",
              "      <td>0.129</td>\n",
              "      <td>0.177</td>\n",
              "      <td>0.167</td>\n",
              "      <td>0.262</td>\n",
              "      <td>0.265</td>\n",
              "      <td>2021-01-10</td>\n",
              "      <td>Yellowstone</td>\n",
              "      <td>MT</td>\n",
              "      <td>30111.0</td>\n",
              "      <td>14448.0</td>\n",
              "      <td>170.0</td>\n",
              "      <td>14448.0</td>\n",
              "      <td>170.0</td>\n",
              "      <td>NaN</td>\n",
              "      <td>NaN</td>\n",
              "      <td>both</td>\n",
              "      <td>61.468694</td>\n",
              "    </tr>\n",
              "    <tr>\n",
              "      <th>3128</th>\n",
              "      <td>1478.0</td>\n",
              "      <td>1477.0</td>\n",
              "      <td>York, NE</td>\n",
              "      <td>NaN</td>\n",
              "      <td>575.76</td>\n",
              "      <td>13679.0</td>\n",
              "      <td>1477.0</td>\n",
              "      <td>13679.0</td>\n",
              "      <td>6702.0</td>\n",
              "      <td>6977.0</td>\n",
              "      <td>868.0</td>\n",
              "      <td>433.0</td>\n",
              "      <td>435.0</td>\n",
              "      <td>1632.0</td>\n",
              "      <td>841.0</td>\n",
              "      <td>791.0</td>\n",
              "      <td>677.0</td>\n",
              "      <td>360.0</td>\n",
              "      <td>317.0</td>\n",
              "      <td>1249.0</td>\n",
              "      <td>667.0</td>\n",
              "      <td>582.0</td>\n",
              "      <td>10839.0</td>\n",
              "      <td>5246.0</td>\n",
              "      <td>5593.0</td>\n",
              "      <td>10502.0</td>\n",
              "      <td>5068.0</td>\n",
              "      <td>5434.0</td>\n",
              "      <td>4853.0</td>\n",
              "      <td>2432.0</td>\n",
              "      <td>2421.0</td>\n",
              "      <td>3101.0</td>\n",
              "      <td>1500.0</td>\n",
              "      <td>1601.0</td>\n",
              "      <td>3292.0</td>\n",
              "      <td>1621.0</td>\n",
              "      <td>1671.0</td>\n",
              "      <td>2860.0</td>\n",
              "      <td>1280.0</td>\n",
              "      <td>1580.0</td>\n",
              "      <td>...</td>\n",
              "      <td>947.0</td>\n",
              "      <td>455.0</td>\n",
              "      <td>492.0</td>\n",
              "      <td>824.0</td>\n",
              "      <td>386.0</td>\n",
              "      <td>438.0</td>\n",
              "      <td>689.0</td>\n",
              "      <td>328.0</td>\n",
              "      <td>361.0</td>\n",
              "      <td>508.0</td>\n",
              "      <td>226.0</td>\n",
              "      <td>282.0</td>\n",
              "      <td>392.0</td>\n",
              "      <td>155.0</td>\n",
              "      <td>237.0</td>\n",
              "      <td>447.0</td>\n",
              "      <td>185.0</td>\n",
              "      <td>262.0</td>\n",
              "      <td>40.1</td>\n",
              "      <td>38.6</td>\n",
              "      <td>41.7</td>\n",
              "      <td>31185.0</td>\n",
              "      <td>1744.0</td>\n",
              "      <td>0.044</td>\n",
              "      <td>0.168</td>\n",
              "      <td>0.422</td>\n",
              "      <td>0.184</td>\n",
              "      <td>0.182</td>\n",
              "      <td>2021-01-10</td>\n",
              "      <td>York</td>\n",
              "      <td>NE</td>\n",
              "      <td>31185.0</td>\n",
              "      <td>1283.0</td>\n",
              "      <td>8.0</td>\n",
              "      <td>NaN</td>\n",
              "      <td>NaN</td>\n",
              "      <td>NaN</td>\n",
              "      <td>NaN</td>\n",
              "      <td>both</td>\n",
              "      <td>23.758163</td>\n",
              "    </tr>\n",
              "    <tr>\n",
              "      <th>3136</th>\n",
              "      <td>2885.0</td>\n",
              "      <td>2884.0</td>\n",
              "      <td>Yuma, CO</td>\n",
              "      <td>NaN</td>\n",
              "      <td>2364.66</td>\n",
              "      <td>10019.0</td>\n",
              "      <td>2884.0</td>\n",
              "      <td>10019.0</td>\n",
              "      <td>5015.0</td>\n",
              "      <td>5004.0</td>\n",
              "      <td>748.0</td>\n",
              "      <td>389.0</td>\n",
              "      <td>359.0</td>\n",
              "      <td>1431.0</td>\n",
              "      <td>712.0</td>\n",
              "      <td>719.0</td>\n",
              "      <td>566.0</td>\n",
              "      <td>300.0</td>\n",
              "      <td>266.0</td>\n",
              "      <td>723.0</td>\n",
              "      <td>366.0</td>\n",
              "      <td>357.0</td>\n",
              "      <td>7554.0</td>\n",
              "      <td>3774.0</td>\n",
              "      <td>3780.0</td>\n",
              "      <td>7274.0</td>\n",
              "      <td>3614.0</td>\n",
              "      <td>3660.0</td>\n",
              "      <td>3476.0</td>\n",
              "      <td>1800.0</td>\n",
              "      <td>1676.0</td>\n",
              "      <td>2319.0</td>\n",
              "      <td>1195.0</td>\n",
              "      <td>1124.0</td>\n",
              "      <td>2360.0</td>\n",
              "      <td>1225.0</td>\n",
              "      <td>1135.0</td>\n",
              "      <td>1872.0</td>\n",
              "      <td>828.0</td>\n",
              "      <td>1044.0</td>\n",
              "      <td>...</td>\n",
              "      <td>603.0</td>\n",
              "      <td>316.0</td>\n",
              "      <td>287.0</td>\n",
              "      <td>519.0</td>\n",
              "      <td>240.0</td>\n",
              "      <td>279.0</td>\n",
              "      <td>495.0</td>\n",
              "      <td>230.0</td>\n",
              "      <td>265.0</td>\n",
              "      <td>347.0</td>\n",
              "      <td>159.0</td>\n",
              "      <td>188.0</td>\n",
              "      <td>224.0</td>\n",
              "      <td>95.0</td>\n",
              "      <td>129.0</td>\n",
              "      <td>287.0</td>\n",
              "      <td>104.0</td>\n",
              "      <td>183.0</td>\n",
              "      <td>37.7</td>\n",
              "      <td>36.9</td>\n",
              "      <td>38.5</td>\n",
              "      <td>8125.0</td>\n",
              "      <td>306.0</td>\n",
              "      <td>0.038</td>\n",
              "      <td>0.284</td>\n",
              "      <td>0.133</td>\n",
              "      <td>0.255</td>\n",
              "      <td>0.290</td>\n",
              "      <td>2021-01-10</td>\n",
              "      <td>Yuma</td>\n",
              "      <td>CO</td>\n",
              "      <td>8125.0</td>\n",
              "      <td>589.0</td>\n",
              "      <td>14.0</td>\n",
              "      <td>NaN</td>\n",
              "      <td>NaN</td>\n",
              "      <td>NaN</td>\n",
              "      <td>NaN</td>\n",
              "      <td>both</td>\n",
              "      <td>4.236973</td>\n",
              "    </tr>\n",
              "  </tbody>\n",
              "</table>\n",
              "<p>251 rows × 116 columns</p>\n",
              "</div>"
            ],
            "text/plain": [
              "      Unnamed: 0  Unnamed: 0.1  ... _merge  popdensity\n",
              "9         2245.0        2244.0  ...   both    8.476291\n",
              "10        2538.0        2537.0  ...   both    3.153041\n",
              "14        1098.0        1097.0  ...   both    2.242416\n",
              "19          24.0          23.0  ...   both   31.203704\n",
              "37         934.0         933.0  ...   both    6.598162\n",
              "...          ...           ...  ...    ...         ...\n",
              "3106      1649.0        1648.0  ...   both   26.804925\n",
              "3118       777.0         776.0  ...   both   44.064588\n",
              "3124      1534.0        1533.0  ...   both   61.468694\n",
              "3128      1478.0        1477.0  ...   both   23.758163\n",
              "3136      2885.0        2884.0  ...   both    4.236973\n",
              "\n",
              "[251 rows x 116 columns]"
            ]
          },
          "metadata": {
            "tags": []
          },
          "execution_count": 161
        }
      ]
    },
    {
      "cell_type": "code",
      "metadata": {
        "id": "VfEBDI_UxAa6"
      },
      "source": [
        "for m, x in enumerate(w):\n",
        "  y = dftimed111['fips'] == x\n",
        "  z = dftimed111[y]\n",
        "  z.sort_values(by='date', inplace=True)\n",
        "  if m == 0:\n",
        "    dftimed4 = pd.DataFrame(data=z)\n",
        "  else:\n",
        "    dftimed4 = pd.concat([dftimed4, z], ignore_index=True)"
      ],
      "execution_count": null,
      "outputs": []
    },
    {
      "cell_type": "code",
      "metadata": {
        "colab": {
          "base_uri": "https://localhost:8080/"
        },
        "id": "iGlrwEVR0e5E",
        "outputId": "1763227d-c995-4379-ebf8-09ca68d191b4"
      },
      "source": [
        "dftimed4.shape"
      ],
      "execution_count": 163,
      "outputs": [
        {
          "output_type": "execute_result",
          "data": {
            "text/plain": [
              "(63981, 10)"
            ]
          },
          "metadata": {
            "tags": []
          },
          "execution_count": 163
        }
      ]
    },
    {
      "cell_type": "code",
      "metadata": {
        "id": "wzH7cdem1dKx"
      },
      "source": [
        "for m, x in enumerate(e):\n",
        "  y = dftimed111['fips'] == x\n",
        "  z = dftimed111[y]\n",
        "  z.sort_values(by='date', inplace=True)\n",
        "  if m == 0:\n",
        "    dftimed5 = pd.DataFrame(data=z)\n",
        "  else:\n",
        "    dftimed5 = pd.concat([dftimed5, z], ignore_index=True)"
      ],
      "execution_count": null,
      "outputs": []
    },
    {
      "cell_type": "code",
      "metadata": {
        "id": "kgvSQHOq48Ig"
      },
      "source": [
        "dftimed4['hue'] = 0\n",
        "dftimed5['hue'] = 1\n",
        "dftimed6 = pd.concat([dftimed4, dftimed5], ignore_index=True)"
      ],
      "execution_count": 165,
      "outputs": []
    },
    {
      "cell_type": "code",
      "metadata": {
        "id": "CjnllGQqdfMJ"
      },
      "source": [
        ""
      ],
      "execution_count": 165,
      "outputs": []
    },
    {
      "cell_type": "code",
      "metadata": {
        "id": "4XyuAQCJ5LqN"
      },
      "source": [
        "x = dftimed4['date'].value_counts()\n",
        "y = x.index\n",
        "b1 = []\n",
        "b11 = []\n",
        "b12 = []\n",
        "b13 = []\n",
        "for p, u in enumerate(y):\n",
        "  l = dftimed4['date'] == u\n",
        "  m = dftimed4[l]\n",
        "  n = np.mean(m['casegrowth'])\n",
        "  b1.append(n)\n",
        "  b11.append(u)\n",
        "  b12.append(0)\n",
        "  b13.append(p)\n",
        "\n",
        "x = dftimed5['date'].value_counts()\n",
        "y = x.index\n",
        "b2 = []\n",
        "b21 = []\n",
        "b22 = []\n",
        "b23 = []\n",
        "for p, u in enumerate(y):\n",
        "  l = dftimed5['date'] == u\n",
        "  m = dftimed5[l]\n",
        "  n = np.mean(m['casegrowth'])\n",
        "  b2.append(n)\n",
        "  b21.append(u)\n",
        "  b22.append(1)\n",
        "  b23.append(p)\n"
      ],
      "execution_count": 166,
      "outputs": []
    },
    {
      "cell_type": "code",
      "metadata": {
        "id": "grzoDEi11Kui"
      },
      "source": [
        "x = dftimed6['cases'].value_counts()\n",
        "\n",
        "b3 = []\n",
        "b31 = []\n",
        "b32 = []\n",
        "b33 = []\n",
        "for p, u in enumerate(x):\n",
        "  l = dftimed6['date'] == u\n",
        "  m = dftimed6[l]\n",
        "  n = np.mean(m['casegrowth'])\n",
        "  b3.append(n)\n",
        "  b31.append(u)\n",
        "  b32.append(1)\n",
        "  b33.append(p)"
      ],
      "execution_count": 167,
      "outputs": []
    },
    {
      "cell_type": "code",
      "metadata": {
        "id": "Xb03gY0L6KzS"
      },
      "source": [
        "dftimed4['index1'] = [x for x in range(len(dftimed4))]\n",
        "dftimed5['index1'] = [x for x in range(len(dftimed5))]"
      ],
      "execution_count": 168,
      "outputs": []
    },
    {
      "cell_type": "code",
      "metadata": {
        "id": "Xu54B0c07UfK"
      },
      "source": [
        "def weekaverage(x):\n",
        "  'weekly average growth rates'\n",
        "  sometin = []\n",
        "  sometinelse = []\n",
        "  for y in x:\n",
        "    if len(sometin) == 7:\n",
        "      z = np.mean(sometin)\n",
        "      sometinelse.append(y)\n",
        "      sometin = []\n",
        "      sometin.append(y)\n",
        "    else:\n",
        "      sometin.append(y)\n",
        "  return sometinelse"
      ],
      "execution_count": 169,
      "outputs": []
    },
    {
      "cell_type": "code",
      "metadata": {
        "id": "4U53haJf8bhR"
      },
      "source": [
        "def growth(x):\n",
        "  alacart = []\n",
        "  'establishes weekly average growth rates befoer and after'\n",
        "  for y, z in enumerate(x['cases']):\n",
        "    if y == 0:\n",
        "      alacart.append(0)\n",
        "      h = z\n",
        "    else:\n",
        "      a = (np.log(z) - np.log(h)) *100\n",
        "      alacart.append(a)\n",
        "      h = z\n",
        "  averagesperweek = weekaverage(alacart)\n",
        "  return averagesperweek"
      ],
      "execution_count": 170,
      "outputs": []
    },
    {
      "cell_type": "code",
      "metadata": {
        "id": "NIL633X38tfQ"
      },
      "source": [
        "dflow = pd.DataFrame(data=b1)\n",
        "dflow['date'] = b11\n",
        "dflow['hue'] = b12\n",
        "\n",
        "dfhi = pd.DataFrame(data=b2)\n",
        "dfhi['date'] = b21\n",
        "dfhi['hue'] = b22"
      ],
      "execution_count": 171,
      "outputs": []
    },
    {
      "cell_type": "code",
      "metadata": {
        "id": "M_wbCjKVjHto"
      },
      "source": [
        "dflow['averagecasegrowth'] = dflow[0]\n",
        "dflow.drop(labels = 0, axis=1, inplace=True)\n",
        "\n",
        "dfhi['averagecasegrowth'] = dfhi[0]\n",
        "dfhi.drop(labels = 0, axis=1, inplace=True)"
      ],
      "execution_count": 172,
      "outputs": []
    },
    {
      "cell_type": "code",
      "metadata": {
        "id": "W4CclcIClJ-v"
      },
      "source": [
        "dfhi.sort_values(by='date', inplace=True)\n",
        "dflow.sort_values(by='date', inplace=True)"
      ],
      "execution_count": 173,
      "outputs": []
    },
    {
      "cell_type": "code",
      "metadata": {
        "id": "uUxtR9CEow3X"
      },
      "source": [
        "dfhi.reset_index(inplace=True)\n",
        "dflow.reset_index(inplace=True)\n",
        "dfhi['index1'] = dfhi.index\n",
        "dflow['index1'] = dflow.index\n",
        "dfhilow = pd.concat([dfhi, dflow])\n",
        "dfhilow.reset_index(inplace=True)\n"
      ],
      "execution_count": 174,
      "outputs": []
    },
    {
      "cell_type": "code",
      "metadata": {
        "colab": {
          "base_uri": "https://localhost:8080/",
          "height": 419
        },
        "id": "wqWP8c45pI7z",
        "outputId": "70b8f467-f584-4522-8f58-8015ed82c079"
      },
      "source": [
        "dfhilow"
      ],
      "execution_count": 175,
      "outputs": [
        {
          "output_type": "execute_result",
          "data": {
            "text/html": [
              "<div>\n",
              "<style scoped>\n",
              "    .dataframe tbody tr th:only-of-type {\n",
              "        vertical-align: middle;\n",
              "    }\n",
              "\n",
              "    .dataframe tbody tr th {\n",
              "        vertical-align: top;\n",
              "    }\n",
              "\n",
              "    .dataframe thead th {\n",
              "        text-align: right;\n",
              "    }\n",
              "</style>\n",
              "<table border=\"1\" class=\"dataframe\">\n",
              "  <thead>\n",
              "    <tr style=\"text-align: right;\">\n",
              "      <th></th>\n",
              "      <th>level_0</th>\n",
              "      <th>index</th>\n",
              "      <th>date</th>\n",
              "      <th>hue</th>\n",
              "      <th>averagecasegrowth</th>\n",
              "      <th>index1</th>\n",
              "    </tr>\n",
              "  </thead>\n",
              "  <tbody>\n",
              "    <tr>\n",
              "      <th>0</th>\n",
              "      <td>0</td>\n",
              "      <td>345</td>\n",
              "      <td>2020-01-21</td>\n",
              "      <td>1</td>\n",
              "      <td>0.000000</td>\n",
              "      <td>0</td>\n",
              "    </tr>\n",
              "    <tr>\n",
              "      <th>1</th>\n",
              "      <td>1</td>\n",
              "      <td>347</td>\n",
              "      <td>2020-01-22</td>\n",
              "      <td>1</td>\n",
              "      <td>0.000000</td>\n",
              "      <td>1</td>\n",
              "    </tr>\n",
              "    <tr>\n",
              "      <th>2</th>\n",
              "      <td>2</td>\n",
              "      <td>346</td>\n",
              "      <td>2020-01-23</td>\n",
              "      <td>1</td>\n",
              "      <td>0.000000</td>\n",
              "      <td>2</td>\n",
              "    </tr>\n",
              "    <tr>\n",
              "      <th>3</th>\n",
              "      <td>3</td>\n",
              "      <td>344</td>\n",
              "      <td>2020-01-24</td>\n",
              "      <td>1</td>\n",
              "      <td>0.000000</td>\n",
              "      <td>3</td>\n",
              "    </tr>\n",
              "    <tr>\n",
              "      <th>4</th>\n",
              "      <td>4</td>\n",
              "      <td>343</td>\n",
              "      <td>2020-01-25</td>\n",
              "      <td>1</td>\n",
              "      <td>0.000000</td>\n",
              "      <td>4</td>\n",
              "    </tr>\n",
              "    <tr>\n",
              "      <th>...</th>\n",
              "      <td>...</td>\n",
              "      <td>...</td>\n",
              "      <td>...</td>\n",
              "      <td>...</td>\n",
              "      <td>...</td>\n",
              "      <td>...</td>\n",
              "    </tr>\n",
              "    <tr>\n",
              "      <th>642</th>\n",
              "      <td>294</td>\n",
              "      <td>76</td>\n",
              "      <td>2020-12-29</td>\n",
              "      <td>0</td>\n",
              "      <td>6.824701</td>\n",
              "      <td>294</td>\n",
              "    </tr>\n",
              "    <tr>\n",
              "      <th>643</th>\n",
              "      <td>295</td>\n",
              "      <td>13</td>\n",
              "      <td>2020-12-30</td>\n",
              "      <td>0</td>\n",
              "      <td>10.545817</td>\n",
              "      <td>295</td>\n",
              "    </tr>\n",
              "    <tr>\n",
              "      <th>644</th>\n",
              "      <td>296</td>\n",
              "      <td>47</td>\n",
              "      <td>2020-12-31</td>\n",
              "      <td>0</td>\n",
              "      <td>9.904382</td>\n",
              "      <td>296</td>\n",
              "    </tr>\n",
              "    <tr>\n",
              "      <th>645</th>\n",
              "      <td>297</td>\n",
              "      <td>21</td>\n",
              "      <td>2021-01-01</td>\n",
              "      <td>0</td>\n",
              "      <td>4.107570</td>\n",
              "      <td>297</td>\n",
              "    </tr>\n",
              "    <tr>\n",
              "      <th>646</th>\n",
              "      <td>298</td>\n",
              "      <td>69</td>\n",
              "      <td>2021-01-02</td>\n",
              "      <td>0</td>\n",
              "      <td>8.127490</td>\n",
              "      <td>298</td>\n",
              "    </tr>\n",
              "  </tbody>\n",
              "</table>\n",
              "<p>647 rows × 6 columns</p>\n",
              "</div>"
            ],
            "text/plain": [
              "     level_0  index        date  hue  averagecasegrowth  index1\n",
              "0          0    345  2020-01-21    1           0.000000       0\n",
              "1          1    347  2020-01-22    1           0.000000       1\n",
              "2          2    346  2020-01-23    1           0.000000       2\n",
              "3          3    344  2020-01-24    1           0.000000       3\n",
              "4          4    343  2020-01-25    1           0.000000       4\n",
              "..       ...    ...         ...  ...                ...     ...\n",
              "642      294     76  2020-12-29    0           6.824701     294\n",
              "643      295     13  2020-12-30    0          10.545817     295\n",
              "644      296     47  2020-12-31    0           9.904382     296\n",
              "645      297     21  2021-01-01    0           4.107570     297\n",
              "646      298     69  2021-01-02    0           8.127490     298\n",
              "\n",
              "[647 rows x 6 columns]"
            ]
          },
          "metadata": {
            "tags": []
          },
          "execution_count": 175
        }
      ]
    },
    {
      "cell_type": "code",
      "metadata": {
        "colab": {
          "base_uri": "https://localhost:8080/",
          "height": 350
        },
        "id": "yq8n67Fd1qPo",
        "outputId": "d1e4bb24-e04a-4841-8e96-35bcb47174d9"
      },
      "source": [
        "import seaborn as sns\n",
        "\n",
        "sns.lineplot('index1', 'averagecasegrowth', hue='hue', data=dfhilow)"
      ],
      "execution_count": 176,
      "outputs": [
        {
          "output_type": "stream",
          "text": [
            "/usr/local/lib/python3.6/dist-packages/seaborn/_decorators.py:43: FutureWarning: Pass the following variables as keyword args: x, y. From version 0.12, the only valid positional argument will be `data`, and passing other arguments without an explicit keyword will result in an error or misinterpretation.\n",
            "  FutureWarning\n"
          ],
          "name": "stderr"
        },
        {
          "output_type": "execute_result",
          "data": {
            "text/plain": [
              "<matplotlib.axes._subplots.AxesSubplot at 0x7f6d1431dc50>"
            ]
          },
          "metadata": {
            "tags": []
          },
          "execution_count": 176
        },
        {
          "output_type": "display_data",
          "data": {
            "image/png": "[encoded data removed]",
            "text/plain": [
              "<Figure size 432x288 with 1 Axes>"
            ]
          },
          "metadata": {
            "tags": [],
            "needs_background": "light"
          }
        }
      ]
    },
    {
      "cell_type": "code",
      "metadata": {
        "colab": {
          "base_uri": "https://localhost:8080/",
          "height": 265
        },
        "id": "W7lIyhVfIyZM",
        "outputId": "e7d63571-15eb-4769-8395-321d87b4d2d8"
      },
      "source": [
        "plt.hist(dftest['ALWAYS'])\n",
        "a = dftest['ALWAYS'] >= .7\n",
        "b = dftest[a]\n",
        "\n",
        "x = dftest['ALWAYS'] <= .3\n",
        "y = dftest[x]"
      ],
      "execution_count": 177,
      "outputs": [
        {
          "output_type": "display_data",
          "data": {
            "image/png": "[encoded data removed]",
            "text/plain": [
              "<Figure size 432x288 with 1 Axes>"
            ]
          },
          "metadata": {
            "tags": [],
            "needs_background": "light"
          }
        }
      ]
    },
    {
      "cell_type": "code",
      "metadata": {
        "id": "BhVetHIsiuWe"
      },
      "source": [
        "dftimed6.sort_values(by='date', inplace=True)\n",
        "b = dftimed6['date']\n",
        "\n"
      ],
      "execution_count": 178,
      "outputs": []
    },
    {
      "cell_type": "code",
      "metadata": {
        "id": "WksVUnBsnrst"
      },
      "source": [
        "b.drop_duplicates(inplace=True, keep='first')\n",
        "sio = [x for x in range(len(b))]"
      ],
      "execution_count": 179,
      "outputs": []
    },
    {
      "cell_type": "code",
      "metadata": {
        "id": "ceHNutl5m1jL"
      },
      "source": [
        "b = pd.DataFrame(b)"
      ],
      "execution_count": 180,
      "outputs": []
    },
    {
      "cell_type": "code",
      "metadata": {
        "id": "tfmVb6DtnX1v"
      },
      "source": [
        "b['index'] = sio"
      ],
      "execution_count": 181,
      "outputs": []
    },
    {
      "cell_type": "code",
      "metadata": {
        "colab": {
          "base_uri": "https://localhost:8080/",
          "height": 450
        },
        "id": "xxj5Ejz1n1Cg",
        "outputId": "b3b6134c-1b7f-45d2-cd6d-53c6ecb64b8c"
      },
      "source": [
        "b.index = b['date']\n",
        "b.drop(labels = 'date', axis=1)"
      ],
      "execution_count": 182,
      "outputs": [
        {
          "output_type": "execute_result",
          "data": {
            "text/html": [
              "<div>\n",
              "<style scoped>\n",
              "    .dataframe tbody tr th:only-of-type {\n",
              "        vertical-align: middle;\n",
              "    }\n",
              "\n",
              "    .dataframe tbody tr th {\n",
              "        vertical-align: top;\n",
              "    }\n",
              "\n",
              "    .dataframe thead th {\n",
              "        text-align: right;\n",
              "    }\n",
              "</style>\n",
              "<table border=\"1\" class=\"dataframe\">\n",
              "  <thead>\n",
              "    <tr style=\"text-align: right;\">\n",
              "      <th></th>\n",
              "      <th>index</th>\n",
              "    </tr>\n",
              "    <tr>\n",
              "      <th>date</th>\n",
              "      <th></th>\n",
              "    </tr>\n",
              "  </thead>\n",
              "  <tbody>\n",
              "    <tr>\n",
              "      <th>2020-01-21</th>\n",
              "      <td>0</td>\n",
              "    </tr>\n",
              "    <tr>\n",
              "      <th>2020-01-22</th>\n",
              "      <td>1</td>\n",
              "    </tr>\n",
              "    <tr>\n",
              "      <th>2020-01-23</th>\n",
              "      <td>2</td>\n",
              "    </tr>\n",
              "    <tr>\n",
              "      <th>2020-01-24</th>\n",
              "      <td>3</td>\n",
              "    </tr>\n",
              "    <tr>\n",
              "      <th>2020-01-25</th>\n",
              "      <td>4</td>\n",
              "    </tr>\n",
              "    <tr>\n",
              "      <th>...</th>\n",
              "      <td>...</td>\n",
              "    </tr>\n",
              "    <tr>\n",
              "      <th>2020-12-29</th>\n",
              "      <td>343</td>\n",
              "    </tr>\n",
              "    <tr>\n",
              "      <th>2020-12-30</th>\n",
              "      <td>344</td>\n",
              "    </tr>\n",
              "    <tr>\n",
              "      <th>2020-12-31</th>\n",
              "      <td>345</td>\n",
              "    </tr>\n",
              "    <tr>\n",
              "      <th>2021-01-01</th>\n",
              "      <td>346</td>\n",
              "    </tr>\n",
              "    <tr>\n",
              "      <th>2021-01-02</th>\n",
              "      <td>347</td>\n",
              "    </tr>\n",
              "  </tbody>\n",
              "</table>\n",
              "<p>348 rows × 1 columns</p>\n",
              "</div>"
            ],
            "text/plain": [
              "            index\n",
              "date             \n",
              "2020-01-21      0\n",
              "2020-01-22      1\n",
              "2020-01-23      2\n",
              "2020-01-24      3\n",
              "2020-01-25      4\n",
              "...           ...\n",
              "2020-12-29    343\n",
              "2020-12-30    344\n",
              "2020-12-31    345\n",
              "2021-01-01    346\n",
              "2021-01-02    347\n",
              "\n",
              "[348 rows x 1 columns]"
            ]
          },
          "metadata": {
            "tags": []
          },
          "execution_count": 182
        }
      ]
    },
    {
      "cell_type": "code",
      "metadata": {
        "id": "QHrgo_I8oI-z"
      },
      "source": [
        ""
      ],
      "execution_count": 182,
      "outputs": []
    },
    {
      "cell_type": "code",
      "metadata": {
        "id": "mPnwQVRpvu99"
      },
      "source": [
        "ss123 = []\n",
        "for x in dftimed6['date']:\n",
        "  y = b.loc[b['date']==x, 'index']\n",
        "  y = list(y)\n",
        "  y = y[0]\n",
        "\n",
        "  ss123.append(y)\n",
        "\n"
      ],
      "execution_count": 183,
      "outputs": []
    },
    {
      "cell_type": "code",
      "metadata": {
        "colab": {
          "base_uri": "https://localhost:8080/"
        },
        "id": "z1kjPMH0u1XD",
        "outputId": "344858ed-1da3-46a4-d943-dc0ee139e0d3"
      },
      "source": [
        "len(ss123)"
      ],
      "execution_count": 184,
      "outputs": [
        {
          "output_type": "execute_result",
          "data": {
            "text/plain": [
              "183687"
            ]
          },
          "metadata": {
            "tags": []
          },
          "execution_count": 184
        }
      ]
    },
    {
      "cell_type": "code",
      "metadata": {
        "id": "shscFjmrxJX0"
      },
      "source": [
        "dftimed6['index2'] = ss123"
      ],
      "execution_count": 185,
      "outputs": []
    },
    {
      "cell_type": "code",
      "metadata": {
        "colab": {
          "base_uri": "https://localhost:8080/",
          "height": 350
        },
        "id": "pI6WOTKQxchx",
        "outputId": "2bbd4b4a-a263-4559-bd45-ee990b1ef197"
      },
      "source": [
        "sns.lineplot('index2', 'casegrowth', data=dftimed6)"
      ],
      "execution_count": 186,
      "outputs": [
        {
          "output_type": "stream",
          "text": [
            "/usr/local/lib/python3.6/dist-packages/seaborn/_decorators.py:43: FutureWarning: Pass the following variables as keyword args: x, y. From version 0.12, the only valid positional argument will be `data`, and passing other arguments without an explicit keyword will result in an error or misinterpretation.\n",
            "  FutureWarning\n"
          ],
          "name": "stderr"
        },
        {
          "output_type": "execute_result",
          "data": {
            "text/plain": [
              "<matplotlib.axes._subplots.AxesSubplot at 0x7f6cfc268d68>"
            ]
          },
          "metadata": {
            "tags": []
          },
          "execution_count": 186
        },
        {
          "output_type": "display_data",
          "data": {
            "image/png": "[encoded data removed]",
            "text/plain": [
              "<Figure size 432x288 with 1 Axes>"
            ]
          },
          "metadata": {
            "tags": [],
            "needs_background": "light"
          }
        }
      ]
    },
    {
      "cell_type": "code",
      "metadata": {
        "id": "tCqspQSxTRVB"
      },
      "source": [
        "ss123 = []\n",
        "for x in dftimed111['date']:\n",
        "  y = b.loc[b['date']==x, 'index']\n",
        "  y = list(y)\n",
        "  y = y[0]\n",
        "\n",
        "  ss123.append(y)\n",
        "dftimed111['index2'] = ss123\n"
      ],
      "execution_count": 187,
      "outputs": []
    },
    {
      "cell_type": "code",
      "metadata": {
        "id": "hWDX61z0dHAi"
      },
      "source": [
        "dftimed111['hue'] = 2"
      ],
      "execution_count": 188,
      "outputs": []
    },
    {
      "cell_type": "code",
      "metadata": {
        "colab": {
          "base_uri": "https://localhost:8080/",
          "height": 326
        },
        "id": "Kuvwr_vUdMpQ",
        "outputId": "b8c0ae7f-ef1b-45e1-9ab5-0072aadaf117"
      },
      "source": [
        "dftimed111.head()"
      ],
      "execution_count": 189,
      "outputs": [
        {
          "output_type": "execute_result",
          "data": {
            "text/html": [
              "<div>\n",
              "<style scoped>\n",
              "    .dataframe tbody tr th:only-of-type {\n",
              "        vertical-align: middle;\n",
              "    }\n",
              "\n",
              "    .dataframe tbody tr th {\n",
              "        vertical-align: top;\n",
              "    }\n",
              "\n",
              "    .dataframe thead th {\n",
              "        text-align: right;\n",
              "    }\n",
              "</style>\n",
              "<table border=\"1\" class=\"dataframe\">\n",
              "  <thead>\n",
              "    <tr style=\"text-align: right;\">\n",
              "      <th></th>\n",
              "      <th>Unnamed: 0</th>\n",
              "      <th>date</th>\n",
              "      <th>county</th>\n",
              "      <th>state</th>\n",
              "      <th>fips</th>\n",
              "      <th>cases</th>\n",
              "      <th>deaths</th>\n",
              "      <th>CTYNAME</th>\n",
              "      <th>index1</th>\n",
              "      <th>casegrowth</th>\n",
              "      <th>index2</th>\n",
              "      <th>hue</th>\n",
              "    </tr>\n",
              "  </thead>\n",
              "  <tbody>\n",
              "    <tr>\n",
              "      <th>0</th>\n",
              "      <td>0</td>\n",
              "      <td>2020-01-21</td>\n",
              "      <td>Snohomish</td>\n",
              "      <td>WA</td>\n",
              "      <td>53061.0</td>\n",
              "      <td>1</td>\n",
              "      <td>0.0</td>\n",
              "      <td>Snohomish, WA</td>\n",
              "      <td>0</td>\n",
              "      <td>0</td>\n",
              "      <td>0</td>\n",
              "      <td>2</td>\n",
              "    </tr>\n",
              "    <tr>\n",
              "      <th>1</th>\n",
              "      <td>1</td>\n",
              "      <td>2020-01-22</td>\n",
              "      <td>Snohomish</td>\n",
              "      <td>WA</td>\n",
              "      <td>53061.0</td>\n",
              "      <td>1</td>\n",
              "      <td>0.0</td>\n",
              "      <td>Snohomish, WA</td>\n",
              "      <td>1</td>\n",
              "      <td>0</td>\n",
              "      <td>1</td>\n",
              "      <td>2</td>\n",
              "    </tr>\n",
              "    <tr>\n",
              "      <th>2</th>\n",
              "      <td>2</td>\n",
              "      <td>2020-01-23</td>\n",
              "      <td>Snohomish</td>\n",
              "      <td>WA</td>\n",
              "      <td>53061.0</td>\n",
              "      <td>1</td>\n",
              "      <td>0.0</td>\n",
              "      <td>Snohomish, WA</td>\n",
              "      <td>2</td>\n",
              "      <td>0</td>\n",
              "      <td>2</td>\n",
              "      <td>2</td>\n",
              "    </tr>\n",
              "    <tr>\n",
              "      <th>3</th>\n",
              "      <td>3</td>\n",
              "      <td>2020-01-24</td>\n",
              "      <td>Snohomish</td>\n",
              "      <td>WA</td>\n",
              "      <td>53061.0</td>\n",
              "      <td>1</td>\n",
              "      <td>0.0</td>\n",
              "      <td>Snohomish, WA</td>\n",
              "      <td>4</td>\n",
              "      <td>0</td>\n",
              "      <td>3</td>\n",
              "      <td>2</td>\n",
              "    </tr>\n",
              "    <tr>\n",
              "      <th>4</th>\n",
              "      <td>4</td>\n",
              "      <td>2020-01-25</td>\n",
              "      <td>Snohomish</td>\n",
              "      <td>WA</td>\n",
              "      <td>53061.0</td>\n",
              "      <td>1</td>\n",
              "      <td>0.0</td>\n",
              "      <td>Snohomish, WA</td>\n",
              "      <td>7</td>\n",
              "      <td>0</td>\n",
              "      <td>4</td>\n",
              "      <td>2</td>\n",
              "    </tr>\n",
              "  </tbody>\n",
              "</table>\n",
              "</div>"
            ],
            "text/plain": [
              "   Unnamed: 0        date     county state  ...  index1  casegrowth  index2 hue\n",
              "0           0  2020-01-21  Snohomish    WA  ...       0           0       0   2\n",
              "1           1  2020-01-22  Snohomish    WA  ...       1           0       1   2\n",
              "2           2  2020-01-23  Snohomish    WA  ...       2           0       2   2\n",
              "3           3  2020-01-24  Snohomish    WA  ...       4           0       3   2\n",
              "4           4  2020-01-25  Snohomish    WA  ...       7           0       4   2\n",
              "\n",
              "[5 rows x 12 columns]"
            ]
          },
          "metadata": {
            "tags": []
          },
          "execution_count": 189
        }
      ]
    },
    {
      "cell_type": "code",
      "metadata": {
        "colab": {
          "base_uri": "https://localhost:8080/",
          "height": 350
        },
        "id": "Yfbsu2XWblAM",
        "outputId": "96cba47f-2a72-4a0d-f36b-c1c35748415f"
      },
      "source": [
        "sns.lineplot('index2', 'casegrowth', data=dftimed111)\n"
      ],
      "execution_count": 190,
      "outputs": [
        {
          "output_type": "stream",
          "text": [
            "/usr/local/lib/python3.6/dist-packages/seaborn/_decorators.py:43: FutureWarning: Pass the following variables as keyword args: x, y. From version 0.12, the only valid positional argument will be `data`, and passing other arguments without an explicit keyword will result in an error or misinterpretation.\n",
            "  FutureWarning\n"
          ],
          "name": "stderr"
        },
        {
          "output_type": "execute_result",
          "data": {
            "text/plain": [
              "<matplotlib.axes._subplots.AxesSubplot at 0x7f6d05161278>"
            ]
          },
          "metadata": {
            "tags": []
          },
          "execution_count": 190
        },
        {
          "output_type": "display_data",
          "data": {
            "image/png": "[encoded data removed]",
            "text/plain": [
              "<Figure size 432x288 with 1 Axes>"
            ]
          },
          "metadata": {
            "tags": [],
            "needs_background": "light"
          }
        }
      ]
    },
    {
      "cell_type": "code",
      "metadata": {
        "id": "d4LAmfbjdaCr"
      },
      "source": [
        "dftimedfinal = pd.concat([dftimed6, dftimed111], ignore_index=True)"
      ],
      "execution_count": 191,
      "outputs": []
    },
    {
      "cell_type": "code",
      "metadata": {
        "id": "grSNvD6Omxhd"
      },
      "source": [
        "dftimedfinal.rename(columns={'index2':'Day', 'casegrowth':'Case Growth', 'hue':'Care_index'}, inplace=True)"
      ],
      "execution_count": 192,
      "outputs": []
    },
    {
      "cell_type": "code",
      "metadata": {
        "colab": {
          "base_uri": "https://localhost:8080/",
          "height": 333
        },
        "id": "rernsLP5dimR",
        "outputId": "31f71b81-8194-42f3-92f6-cf102884dbe1"
      },
      "source": [
        "sns.lineplot('Day', 'Case Growth', hue='Care_index', data=dftimedfinal);"
      ],
      "execution_count": 193,
      "outputs": [
        {
          "output_type": "stream",
          "text": [
            "/usr/local/lib/python3.6/dist-packages/seaborn/_decorators.py:43: FutureWarning: Pass the following variables as keyword args: x, y. From version 0.12, the only valid positional argument will be `data`, and passing other arguments without an explicit keyword will result in an error or misinterpretation.\n",
            "  FutureWarning\n"
          ],
          "name": "stderr"
        },
        {
          "output_type": "display_data",
          "data": {
            "image/png": "[encoded data removed]",
            "text/plain": [
              "<Figure size 432x288 with 1 Axes>"
            ]
          },
          "metadata": {
            "tags": [],
            "needs_background": "light"
          }
        }
      ]
    },
    {
      "cell_type": "code",
      "metadata": {
        "id": "muNPR5ZqgAlX"
      },
      "source": [
        "a = dftimedfinal['hue'] == 0\n",
        "b = dftimedfinal['hue'] == 1\n",
        "c = dftimedfinal['hue'] == 2\n",
        "\n",
        "a = dftimedfinal[a]\n",
        "b = dftimedfinal[b]\n",
        "c = dftimedfinal[c]"
      ],
      "execution_count": null,
      "outputs": []
    },
    {
      "cell_type": "code",
      "metadata": {
        "id": "BRuHqopJl911"
      },
      "source": [
        "a.rename(columns={'index2':'Day', 'casegrowth':'Case Growth'}, inplace=True)"
      ],
      "execution_count": null,
      "outputs": []
    },
    {
      "cell_type": "code",
      "metadata": {
        "id": "VI8-4vINhC86"
      },
      "source": [
        "sns.lineplot('Day', 'Case Growth', data=a);"
      ],
      "execution_count": null,
      "outputs": []
    },
    {
      "cell_type": "code",
      "metadata": {
        "id": "5_7XhQiWl6mD"
      },
      "source": [
        "b.rename(columns={'index2':'Day', 'casegrowth':'Case Growth'}, inplace=True)"
      ],
      "execution_count": null,
      "outputs": []
    },
    {
      "cell_type": "code",
      "metadata": {
        "id": "3OBIvZLjhKNf"
      },
      "source": [
        "sns.lineplot('Day', 'Case Growth', data=b);\n"
      ],
      "execution_count": null,
      "outputs": []
    },
    {
      "cell_type": "code",
      "metadata": {
        "id": "IfJ1ymwllMbL"
      },
      "source": [
        "c.rename(columns={'index2':'Day', 'casegrowth':'Case Growth'}, inplace=True)"
      ],
      "execution_count": null,
      "outputs": []
    },
    {
      "cell_type": "code",
      "metadata": {
        "id": "eXG3HkOrhNb7"
      },
      "source": [
        "sns.lineplot('Day', 'Case Growth', data=c);\n",
        "#This visualiztion is the daily Growth rate for the entire United States\n"
      ],
      "execution_count": null,
      "outputs": []
    }
  ]
}